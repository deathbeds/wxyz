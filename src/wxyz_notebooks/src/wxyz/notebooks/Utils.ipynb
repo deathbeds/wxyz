{
 "cells": [
  {
   "cell_type": "markdown",
   "metadata": {},
   "source": [
    "# WXYZ Utils"
   ]
  },
  {
   "cell_type": "code",
   "execution_count": 1,
   "metadata": {},
   "outputs": [
    {
     "name": "stdout",
     "output_type": "stream",
     "text": [
      "Note: you may need to restart the kernel to use updated packages.\n"
     ]
    }
   ],
   "source": [
    "if __name__ == \"__main__\":\n",
    "    %pip install -q wxyz-notebooks"
   ]
  },
  {
   "cell_type": "code",
   "execution_count": null,
   "metadata": {},
   "outputs": [],
   "source": [
    "import os, json, ipywidgets as W, IPython as I\n",
    "from pathlib import Path"
   ]
  },
  {
   "cell_type": "code",
   "execution_count": null,
   "metadata": {},
   "outputs": [],
   "source": [
    "def get_widget_info():\n",
    "    mros = {\n",
    "        cid: tuple(\n",
    "            f\"{v0.__module__}.{v0.__qualname__}\" \n",
    "            for v0 in v.__class__.__mro__[:v.__class__.__mro__.index(W.Widget)]\n",
    "        )\n",
    "        for cid, v in W.Widget.widgets.items()\n",
    "    }\n",
    "\n",
    "    mro_counts = [\n",
    "        dict(\n",
    "            mro=mro,\n",
    "            count=len([v for v in mros.values() if v == mro])\n",
    "        )\n",
    "        for mro in mros.values()\n",
    "    ]\n",
    "    return {\n",
    "        \"mro_counts\": mro_counts\n",
    "    }"
   ]
  },
  {
   "cell_type": "markdown",
   "metadata": {},
   "source": [
    "If the `WXYZ_WIDGET_LOG` environment variable is set, write out the state of the widgets to the log file as JSON."
   ]
  },
  {
   "cell_type": "code",
   "execution_count": null,
   "metadata": {},
   "outputs": [],
   "source": [
    "def maybe_log_widget_counts(log=None):\n",
    "    log = log or os.environ.get(\"WXYZ_WIDGET_LOG\")\n",
    "    if log is None:\n",
    "        return\n",
    "    log_path = Path(log)\n",
    "    log_path.write_text(\n",
    "        json.dumps(get_widget_info(), indent=2, sort_keys=True),\n",
    "        encoding=\"utf-8\"\n",
    "    )"
   ]
  }
 ],
 "metadata": {
  "kernelspec": {
   "display_name": "Python 3 (ipykernel)",
   "language": "python",
   "name": "python3"
  },
  "language_info": {
   "codemirror_mode": {
    "name": "ipython",
    "version": 3
   },
   "file_extension": ".py",
   "mimetype": "text/x-python",
   "name": "python",
   "nbconvert_exporter": "python",
   "pygments_lexer": "ipython3",
   "version": "3.11.0"
  }
 },
 "nbformat": 4,
 "nbformat_minor": 4
}
