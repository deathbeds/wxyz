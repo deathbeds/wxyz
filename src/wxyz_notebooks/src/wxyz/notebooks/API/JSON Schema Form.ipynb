{
 "cells": [
  {
   "cell_type": "markdown",
   "metadata": {},
   "source": [
    "# JSON Schema Form"
   ]
  },
  {
   "cell_type": "code",
   "execution_count": null,
   "metadata": {},
   "outputs": [],
   "source": [
    "import ipywidgets as W, traitlets as T\n",
    "from wxyz.json_schema_form import JSONSchemaForm"
   ]
  },
  {
   "cell_type": "code",
   "execution_count": null,
   "metadata": {},
   "outputs": [],
   "source": [
    "W.HBox([\n",
    "    JSONSchemaForm(schema=dict(title=string_format, type=\"string\", format=string_format))\n",
    "    for string_format in [\"date\", \"date-time\", \"time\", \"uri\", \"data-url\", \"email\"]\n",
    "])"
   ]
  },
  {
   "cell_type": "code",
   "execution_count": null,
   "metadata": {},
   "outputs": [],
   "source": [
    "W.HBox([\n",
    "    JSONSchemaForm(schema=dict(title=widget, type=\"string\"), ui_schema={\"ui:widget\": widget})\n",
    "    for widget in [\"color\", \"password\", \"textarea\"]\n",
    "])"
   ]
  },
  {
   "cell_type": "code",
   "execution_count": null,
   "metadata": {},
   "outputs": [],
   "source": [
    "multiple_choice = {\n",
    "  \"type\": \"array\",\n",
    "  \"items\": {\n",
    "    \"type\": \"string\",\n",
    "    \"enum\": [\"foo\", \"bar\", \"fuzz\", \"qux\"],\n",
    "  },\n",
    "  \"uniqueItems\": True\n",
    "}\n",
    "choices = [\n",
    "    JSONSchemaForm(schema={\"title\": \"multiselect\", **multiple_choice}),\n",
    "    JSONSchemaForm(schema={\"title\": \"checkboxes\", **multiple_choice}, ui_schema={\"ui:widget\": \"checkboxes\"}),\n",
    "    JSONSchemaForm(schema={\"title\": \"inline checkboxes\", **multiple_choice}, ui_schema={\"ui:widget\": \"checkboxes\", \"ui:options\": {\"inline\": True}})\n",
    "]\n",
    "T.link((choices[0], \"value\"), (choices[1], \"value\"), )"
   ]
  },
  {
   "cell_type": "code",
   "execution_count": null,
   "metadata": {},
   "outputs": [],
   "source": [
    "T.link((choices[1], \"value\"), (choices[2], \"value\"), )\n",
    "W.HBox(choices)"
   ]
  }
 ],
 "metadata": {
  "kernelspec": {
   "display_name": "Python 3 (ipykernel)",
   "language": "python",
   "name": "python3"
  },
  "language_info": {
   "codemirror_mode": {
    "name": "ipython",
    "version": 3
   },
   "file_extension": ".py",
   "mimetype": "text/x-python",
   "name": "python",
   "nbconvert_exporter": "python",
   "pygments_lexer": "ipython3",
   "version": "3.11.0"
  }
 },
 "nbformat": 4,
 "nbformat_minor": 4
}
