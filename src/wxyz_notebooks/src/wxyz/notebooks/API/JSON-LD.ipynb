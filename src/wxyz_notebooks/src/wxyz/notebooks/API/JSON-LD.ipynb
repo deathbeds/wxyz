{
 "cells": [
  {
   "cell_type": "code",
   "execution_count": null,
   "metadata": {},
   "outputs": [],
   "source": [
    "from wxyz.jsonld import Expand, Compact, Flatten, Frame, Normalize\n",
    "from pyld import jsonld"
   ]
  },
  {
   "cell_type": "code",
   "execution_count": null,
   "metadata": {},
   "outputs": [],
   "source": [
    "ctx = {\n",
    "    \"@context\": {\n",
    "        \"@vocab\": \"http://schema.org/\",\n",
    "        \"schema\": \"http://schema.org/\"\n",
    "    }\n",
    "}\n",
    "\n",
    "doc = {\n",
    "    **ctx,\n",
    "    \"@type\": \"Person\",\n",
    "    \"name\": \"Jane Doe\",\n",
    "    \"jobTitle\": \"Professor\",\n",
    "    \"telephone\": \"(425) 123-4567\",\n",
    "    \"url\": \"http://www.janedoe.com\"\n",
    "}\n",
    "good_frame = {\n",
    "    **ctx,\n",
    "    \"name\": \"Jane Doe\"\n",
    "}\n",
    "bad_frame = {\n",
    "    **ctx,\n",
    "    \"name\": \"Dane Joe\"\n",
    "}"
   ]
  },
  {
   "cell_type": "code",
   "execution_count": null,
   "metadata": {},
   "outputs": [],
   "source": [
    "expand = Expand({\n",
    "    \"http://schema.org/name\": \"Manu Sporny\",\n",
    "    \"http://schema.org/url\": {\"@id\": \"http://manu.sporny.org/\"},\n",
    "    \"http://schema.org/image\": {\"@id\": \"http://manu.sporny.org/images/manu.png\"}\n",
    "})\n",
    "assert not expand.error\n",
    "assert expand.value"
   ]
  },
  {
   "cell_type": "code",
   "execution_count": null,
   "metadata": {},
   "outputs": [],
   "source": [
    "compact = Compact(doc, context=ctx)\n",
    "assert not compact.error\n",
    "assert compact.value == doc"
   ]
  },
  {
   "cell_type": "code",
   "execution_count": null,
   "metadata": {},
   "outputs": [],
   "source": [
    "flatten = Flatten(doc)\n",
    "assert not flatten.error\n",
    "assert flatten.value"
   ]
  },
  {
   "cell_type": "markdown",
   "metadata": {},
   "source": [
    "# TODO: investigate in nbconvert"
   ]
  },
  {
   "cell_type": "markdown",
   "metadata": {},
   "source": [
    "frame = Frame(doc, frame=good_frame)\n",
    "assert not frame.error\n",
    "assert frame.value[\"@graph\"][0][\"name\"], frame.value"
   ]
  },
  {
   "cell_type": "markdown",
   "metadata": {},
   "source": [
    "# TODO: investigate in nbconvert"
   ]
  },
  {
   "cell_type": "markdown",
   "metadata": {},
   "source": [
    "frame = Frame(doc, frame=bad_frame)\n",
    "assert not frame.error\n",
    "assert not frame.value[\"@graph\"][0][\"name\"], frame.value"
   ]
  },
  {
   "cell_type": "code",
   "execution_count": null,
   "metadata": {},
   "outputs": [],
   "source": [
    "normalized = Normalize(doc)\n",
    "assert not normalized.error \n",
    "assert normalized.value"
   ]
  }
 ],
 "metadata": {
  "kernelspec": {
   "display_name": "Python 3 (ipykernel)",
   "language": "python",
   "name": "python3"
  },
  "language_info": {
   "codemirror_mode": {
    "name": "ipython",
    "version": 3
   },
   "file_extension": ".py",
   "mimetype": "text/x-python",
   "name": "python",
   "nbconvert_exporter": "python",
   "pygments_lexer": "ipython3",
   "version": "3.11.0"
  }
 },
 "nbformat": 4,
 "nbformat_minor": 4
}
