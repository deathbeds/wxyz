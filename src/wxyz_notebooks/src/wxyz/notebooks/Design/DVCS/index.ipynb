{
 "cells": [
  {
   "cell_type": "markdown",
   "metadata": {},
   "source": [
    "# DVCS\n",
    "\n",
    "Connect traits to distributed version control systems like `git` and `fossil` to capture changes and metadata over time.\n",
    "\n",
    "> _The initial implementation will be mostly served by the kernel, but a browser-side implementation seems possible_"
   ]
  },
  {
   "cell_type": "markdown",
   "metadata": {},
   "source": [
    "## Wanted\n",
    "\n",
    "Some UX/DX stories we'd like to see."
   ]
  },
  {
   "cell_type": "markdown",
   "metadata": {},
   "source": [
    "### Simple Example\n",
    "\n",
    "[Prototype](./Simple%20Example.ipynb)\n",
    "\n",
    "It should be simple to link a single widget to a sane, on-disk representation. \n",
    "\n",
    "> It should be simple to import the needed classes\n",
    "\n",
    "```python\n",
    "import ipywidgets as W\n",
    "from wxyz.dvcs.git import Repo\n",
    "from wxyz.dvcs.ui import SimpleRepoActions\n",
    "```\n",
    "\n",
    "> It should work out of the box with all the built-in widget types.\n",
    "\n",
    "```python\n",
    "text = W.Textarea()\n",
    "```\n",
    "\n",
    "> Sensible defaults should make it straightforward to not shoot yourself in the foot\n",
    "\n",
    "``` python\n",
    "repo = Repo()\n",
    "```\n",
    "\n",
    "> Any number of widgets should be trackable.\n",
    "\n",
    "```python\n",
    "repo.track(\n",
    "    widget=text, \n",
    "    trait_names=[\"value\"], \n",
    "    path=\"text.json\"\n",
    ")\n",
    "```\n",
    "\n",
    "> There should be [tools](./Tools.ipynb) that work at different levels of sophistication, while the underlying pieces can be re-combined for advanced behaviors\n",
    "\n",
    "```python\n",
    "W.HBox([text, SimpleRepoActions(repo)])\n",
    "```\n",
    "\n",
    "This would create/read a `text.json` containing a single object with a `value` key."
   ]
  },
  {
   "cell_type": "markdown",
   "metadata": {},
   "source": [
    "## Concepts"
   ]
  },
  {
   "cell_type": "markdown",
   "metadata": {},
   "source": [
    "### Repo\n",
    "- Low-level representation of a repo.\n",
    "- Can list \n",
    "  - `Head`\n",
    "  - `Remote`"
   ]
  },
  {
   "cell_type": "markdown",
   "metadata": {},
   "source": [
    "### Remote\n",
    "A remote repo that can be \n",
    "- can list\n",
    "  - `Refs`\n",
    "- (at least) `fetch`\n",
    "- (maybe) `push`ed to\n"
   ]
  },
  {
   "cell_type": "markdown",
   "metadata": {},
   "source": [
    "### Head\n",
    "- a named commit\n",
    "- can list `RepoFile`"
   ]
  },
  {
   "cell_type": "markdown",
   "metadata": {},
   "source": [
    "### RepoFile\n",
    "\n",
    "A file in the repo\n",
    "- can get the value, commi"
   ]
  },
  {
   "cell_type": "markdown",
   "metadata": {},
   "source": [
    "### Diff\n",
    "\n",
    "- A diff of two refs.\n",
    "- Probably has different drivers\n",
    "  - `difflib`\n",
    "  - `jsonpatch`\n",
    "  - `graphtage`"
   ]
  },
  {
   "cell_type": "markdown",
   "metadata": {},
   "source": [
    "### Conflict\n",
    "\n",
    "Inevitably, merge conflicts will arise. Need:\n",
    "- visual tools to resolve"
   ]
  }
 ],
 "metadata": {
  "kernelspec": {
   "display_name": "Python 3 (ipykernel)",
   "language": "python",
   "name": "python3"
  },
  "language_info": {
   "codemirror_mode": {
    "name": "ipython",
    "version": 3
   },
   "file_extension": ".py",
   "mimetype": "text/x-python",
   "name": "python",
   "nbconvert_exporter": "python",
   "pygments_lexer": "ipython3",
   "version": "3.8.5"
  }
 },
 "nbformat": 4,
 "nbformat_minor": 4
}
