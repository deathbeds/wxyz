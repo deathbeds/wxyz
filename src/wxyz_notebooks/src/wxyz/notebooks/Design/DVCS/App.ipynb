{
 "cells": [
  {
   "cell_type": "markdown",
   "metadata": {},
   "source": [
    "# A DVCS App\n",
    "The `wxyz_vcs` widgets can be combined with other wxyz widgets to create rich, history- and provenance-aware interactive experiences."
   ]
  },
  {
   "cell_type": "code",
   "execution_count": null,
   "metadata": {},
   "outputs": [],
   "source": [
    "from wxyz.lab import DockBox\n",
    "from wxyz.datagrid import DataGrid\n",
    "import ipywidgets as W\n",
    "import traitlets as T\n",
    "import importnb\n",
    "import pandas as pd"
   ]
  },
  {
   "cell_type": "code",
   "execution_count": null,
   "metadata": {},
   "outputs": [],
   "source": [
    "with importnb.Notebook():\n",
    "    import wxyz.notebooks.Design.DVCS.Tools as tools\n",
    "    import wxyz.notebooks.Design.DVCS.Simple_Example as simple"
   ]
  },
  {
   "cell_type": "code",
   "execution_count": null,
   "metadata": {},
   "outputs": [],
   "source": [
    "content = W.VBox([\n",
    "    simple.number,\n",
    "    simple.text, \n",
    "])"
   ]
  },
  {
   "cell_type": "code",
   "execution_count": null,
   "metadata": {},
   "outputs": [],
   "source": [
    "grid = DataGrid()"
   ]
  },
  {
   "cell_type": "code",
   "execution_count": null,
   "metadata": {},
   "outputs": [],
   "source": [
    "def _history_to_frame(history):\n",
    "    df = pd.json_normalize(history)\n",
    "    if history:\n",
    "        df = df.set_index([\"commit\"])\n",
    "        df[\"timestamp\"] = pd.to_datetime(df[\"timestamp\"], unit='s', utc=True)\n",
    "    return df"
   ]
  },
  {
   "cell_type": "code",
   "execution_count": null,
   "metadata": {},
   "outputs": [],
   "source": [
    "T.dlink((simple.repo, \"head_history\"), (grid, \"value\"), _history_to_frame)\n",
    "T.dlink((simple.repo, \"head\"), (grid, \"description\"), \"{} History\".format)\n",
    "grid"
   ]
  },
  {
   "cell_type": "code",
   "execution_count": null,
   "metadata": {},
   "outputs": [],
   "source": [
    "box = DockBox(\n",
    "    children=[\n",
    "        simple.head,\n",
    "        simple.repo_ui,\n",
    "        simple.restore,\n",
    "        content,\n",
    "        grid,\n",
    "    ], \n",
    "    layout=dict(height=\"400px\")\n",
    ")"
   ]
  },
  {
   "cell_type": "code",
   "execution_count": null,
   "metadata": {},
   "outputs": [],
   "source": [
    "box"
   ]
  },
  {
   "cell_type": "code",
   "execution_count": null,
   "metadata": {},
   "outputs": [],
   "source": [
    "box.dock_layout={'type': 'split-area',\n",
    " 'orientation': 'horizontal',\n",
    " 'children': [{'type': 'split-area',\n",
    "   'orientation': 'vertical',\n",
    "   'children': [{'type': 'tab-area', 'widgets': [3], 'currentIndex': 0},\n",
    "    {'type': 'tab-area', 'widgets': [1], 'currentIndex': 0}],\n",
    "   'sizes': [0.5, 0.5]},\n",
    "  {'type': 'split-area',\n",
    "   'orientation': 'vertical',\n",
    "   'children': [{'type': 'tab-area', 'widgets': [0], 'currentIndex': 0},\n",
    "    {'type': 'tab-area', 'widgets': [4], 'currentIndex': 0},\n",
    "    {'type': 'tab-area', 'widgets': [2], 'currentIndex': 0}],\n",
    "   'sizes': [0.1829, 0.5862, 0.2308]}],\n",
    " 'sizes': [0.5862, 0.4137]}"
   ]
  }
 ],
 "metadata": {
  "kernelspec": {
   "display_name": "Python 3 (ipykernel)",
   "language": "python",
   "name": "python3"
  },
  "language_info": {
   "codemirror_mode": {
    "name": "ipython",
    "version": 3
   },
   "file_extension": ".py",
   "mimetype": "text/x-python",
   "name": "python",
   "nbconvert_exporter": "python",
   "pygments_lexer": "ipython3",
   "version": "3.8.5"
  }
 },
 "nbformat": 4,
 "nbformat_minor": 4
}
