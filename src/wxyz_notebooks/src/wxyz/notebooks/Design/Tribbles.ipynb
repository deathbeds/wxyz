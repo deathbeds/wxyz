{
 "cells": [
  {
   "cell_type": "markdown",
   "metadata": {},
   "source": [
    "# Tribbles\n",
    "\n",
    "some terrible traitlets tricks\n",
    "\n",
    "> **Don't** consider this **supported code**, but rather an example of operator overloading with widgets. "
   ]
  },
  {
   "cell_type": "code",
   "execution_count": null,
   "metadata": {
    "jupyter": {
     "source_hidden": true
    }
   },
   "outputs": [],
   "source": [
    "import ipywidgets as W, traitlets as T, IPython as I\n",
    "from contextlib import contextmanager\n",
    "from functools import lru_cache"
   ]
  },
  {
   "cell_type": "code",
   "execution_count": null,
   "metadata": {
    "jupyter": {
     "source_hidden": true
    }
   },
   "outputs": [],
   "source": [
    "def _make_dlink_(fn, *args):\n",
    "    def _dlink_(val):\n",
    "        return fn(*[\n",
    "            ~arg for arg in args\n",
    "        ])\n",
    "    return _dlink_"
   ]
  },
  {
   "cell_type": "code",
   "execution_count": null,
   "metadata": {
    "jupyter": {
     "source_hidden": true
    }
   },
   "outputs": [],
   "source": [
    "class Bit():\n",
    "    def __init__(self, has_traits, name):\n",
    "        self._has_traits_ = has_traits\n",
    "        self._name_ = name\n",
    "    def __invert__(self): return getattr(self._has_traits_, self._name_)\n",
    "    def __eq__(self, other): T.link((self._has_traits_, self._name_), (other._has_traits_, self._name_))\n",
    "    def __le__(self, other): \n",
    "        if isinstance(other, tuple):\n",
    "            fn = other[0]\n",
    "            for inst in other[1:]:\n",
    "                T.dlink(\n",
    "                    (inst._has_traits_, inst._name_), \n",
    "                    (self._has_traits_, self._name_),\n",
    "                    _make_dlink_(*other)\n",
    "                )\n",
    "        else:\n",
    "            T.dlink(\n",
    "                (other._has_traits_, other._name_),\n",
    "                (self._has_traits_, self._name_),\n",
    "            )"
   ]
  },
  {
   "cell_type": "code",
   "execution_count": null,
   "metadata": {
    "jupyter": {
     "source_hidden": true
    }
   },
   "outputs": [],
   "source": [
    "class Tidbit():\n",
    "    _has_traits_ = None\n",
    "    \n",
    "    def __init__(self, has_traits: T.HasTraits):\n",
    "        self._has_traits_ = has_traits\n",
    "        \n",
    "    @lru_cache\n",
    "    def __getattr__(self, name): return Bit(self._has_traits_, name)"
   ]
  },
  {
   "cell_type": "code",
   "execution_count": null,
   "metadata": {
    "jupyter": {
     "source_hidden": true
    }
   },
   "outputs": [],
   "source": [
    "class Tribble():\n",
    "    def __init__(self, container, **items): \n",
    "        self._trible_container_ = container\n",
    "        container.children = [*items.values()]\n",
    "        self._trible_ns_ = {k: Tidbit(i) for k, i in items.items()}\n",
    "        \n",
    "    @lru_cache\n",
    "    def __getattr__(self, attr): return self._trible_ns_[attr]\n",
    "\n",
    "    @lru_cache\n",
    "    def __getitem__(self, item): return Tidbit(item)\n",
    "    \n",
    "    def ui(self):\n",
    "        return self._trible_container_"
   ]
  },
  {
   "cell_type": "markdown",
   "metadata": {},
   "source": [
    "A _tribble_ is a symbolic namespace for the _traitlets_ underneath _widgets_. Consider a simple box and container."
   ]
  },
  {
   "cell_type": "code",
   "execution_count": null,
   "metadata": {},
   "outputs": [],
   "source": [
    "a = W.FloatSlider(description=\"a\")\n",
    "box = W.HBox([a])"
   ]
  },
  {
   "cell_type": "markdown",
   "metadata": {},
   "source": [
    "It accepts a single box-like container, and a keyword arguments of named widgets."
   ]
  },
  {
   "cell_type": "code",
   "execution_count": null,
   "metadata": {},
   "outputs": [],
   "source": [
    "tv = Tribble(box, a=a, **{i: W.FloatSlider(description=i) for i in \"bcd\"})\n",
    "tv.ui()"
   ]
  },
  {
   "cell_type": "markdown",
   "metadata": {},
   "source": [
    "Access widgets by name, or as an index:"
   ]
  },
  {
   "cell_type": "code",
   "execution_count": null,
   "metadata": {},
   "outputs": [],
   "source": [
    "print(tv[a].value, tv.a.value)"
   ]
  },
  {
   "cell_type": "markdown",
   "metadata": {},
   "source": [
    "To actually access the value of a wrapped widget, use the `~` prefix operator."
   ]
  },
  {
   "cell_type": "code",
   "execution_count": null,
   "metadata": {},
   "outputs": [],
   "source": [
    "a.value = 10\n",
    "~tv.a.value"
   ]
  },
  {
   "cell_type": "markdown",
   "metadata": {},
   "source": [
    "Link two traits together with the equality operator `==`."
   ]
  },
  {
   "cell_type": "code",
   "execution_count": null,
   "metadata": {},
   "outputs": [],
   "source": [
    "tv.a.value == tv.b.value\n",
    "~tv.b.value"
   ]
  },
  {
   "cell_type": "markdown",
   "metadata": {},
   "source": [
    "You can use these inside trait handlers as \"slow\" values, that are _used_ during a functional transformation, but should _not_ trigger recalculation."
   ]
  },
  {
   "cell_type": "code",
   "execution_count": null,
   "metadata": {},
   "outputs": [],
   "source": [
    "tv.d.value <= (lambda c: c * ~tv.b.value / 10, \n",
    "               tv.c.value)"
   ]
  },
  {
   "cell_type": "markdown",
   "metadata": {},
   "source": [
    "Any number of \"fast\" arguments can be provided."
   ]
  },
  {
   "cell_type": "code",
   "execution_count": null,
   "metadata": {},
   "outputs": [],
   "source": [
    "tv.c.value <= (lambda b, d: b + d,\n",
    "               tv.b.value,\n",
    "               tv.d.value)"
   ]
  },
  {
   "cell_type": "markdown",
   "metadata": {},
   "source": [
    "Other `Box` subclasses work as well."
   ]
  },
  {
   "cell_type": "code",
   "execution_count": null,
   "metadata": {},
   "outputs": [],
   "source": [
    "from wxyz.lab import DockBox\n",
    "import math, random\n",
    "dtv = Tribble(DockBox(layout=dict(height=\"300px\")), **{i: W.FloatSlider(description=i, value=random.random() * 100) for i in \"wxyz\"})\n",
    "dtv.z.value <= (lambda w, x, y: (math.sin(w) * x) + y,\n",
    "               dtv.w.value,\n",
    "               dtv.x.value,\n",
    "               dtv.y.value)\n",
    "dtv.ui()"
   ]
  }
 ],
 "metadata": {
  "kernelspec": {
   "display_name": "Python 3 (ipykernel)",
   "language": "python",
   "name": "python3"
  },
  "language_info": {
   "codemirror_mode": {
    "name": "ipython",
    "version": 3
   },
   "file_extension": ".py",
   "mimetype": "text/x-python",
   "name": "python",
   "nbconvert_exporter": "python",
   "pygments_lexer": "ipython3",
   "version": "3.11.0"
  }
 },
 "nbformat": 4,
 "nbformat_minor": 4
}
