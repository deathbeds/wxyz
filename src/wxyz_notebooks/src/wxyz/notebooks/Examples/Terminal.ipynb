{
 "cells": [
  {
   "cell_type": "markdown",
   "metadata": {},
   "source": [
    "# Terminal\n",
    "\n",
    "JupyterLab (and many other applications) use [xtermjs](https://github.com/xtermjs/xterm.js) for rendering line-based terminal outputs. "
   ]
  },
  {
   "cell_type": "code",
   "execution_count": null,
   "metadata": {},
   "outputs": [],
   "source": [
    "if __name__ == \"__main__\":\n",
    "    %pip install -q wxyz-notebooks"
   ]
  },
  {
   "cell_type": "code",
   "execution_count": null,
   "metadata": {},
   "outputs": [],
   "source": [
    "import IPython, asyncio, json\n",
    "import ipywidgets as W, traitlets as T\n",
    "from wxyz.lab import Terminal, DockBox, DockPop\n",
    "from wxyz.html import AlphaColorPicker"
   ]
  },
  {
   "cell_type": "markdown",
   "metadata": {},
   "source": [
    "## Make a terminal Factory"
   ]
  },
  {
   "cell_type": "code",
   "execution_count": null,
   "metadata": {},
   "outputs": [],
   "source": [
    "def make_a_terminal_demo(rows=1):\n",
    "    terminal = Terminal(local_echo=True, rows=rows, fit=False)\n",
    "    terminal.observe(lambda change: terminal.send({\"content\": \"hello!\"}), \"active_terminals\")\n",
    "    return terminal"
   ]
  },
  {
   "cell_type": "markdown",
   "metadata": {},
   "source": [
    "## Show the terminal App"
   ]
  },
  {
   "cell_type": "code",
   "execution_count": null,
   "metadata": {},
   "outputs": [],
   "source": [
    "if __name__ == \"__main__\":\n",
    "    terminal = make_a_terminal_demo()\n",
    "    display(terminal)"
   ]
  },
  {
   "cell_type": "markdown",
   "metadata": {},
   "source": [
    "## Make a fancy terminal Factory"
   ]
  },
  {
   "cell_type": "code",
   "execution_count": null,
   "metadata": {},
   "outputs": [],
   "source": [
    "def make_a_fancy_terminal_demo():\n",
    "    t0, t1 = t = [Terminal(description=f\"Terminal {i}\", fit=True) for i in range(2)]\n",
    "    \n",
    "    i = 0\n",
    "    \n",
    "    def send(txt, prefix=\"\"):\n",
    "        [t1.send_line(f\"{prefix}{line}\") for line in txt.splitlines()]\n",
    "\n",
    "    t0.on_data(lambda t0, data: send(str(data[\"content\"]), \"> \"))\n",
    "\n",
    "    def t0_change(change):\n",
    "        c = i % 5 + 30\n",
    "        send(str(change.new), f\"\\x1B[1;3;{c}m{change.name}\\x1B[0m\\t\")\n",
    "    \n",
    "    t0.observe(t0_change, (\"scroll\", \"selection\", \"rows\", \"cols\", \"active_terminals\"))\n",
    "\n",
    "    checks = {it: W.Checkbox(description=it) for it in [\"local_echo\", \"fit\"]}\n",
    "    sliders = {it: W.IntSlider(description=it) for it in [\"scroll\", \"rows\", \"cols\"]}\n",
    "    \n",
    "    [T.link((t0, k), (v, \"value\")) for k, v in sliders.items()]\n",
    "    [T.link((t0, k), (v, \"value\")) for k, v in checks.items()]\n",
    "    [T.dlink((t0, \"fit\"), (sliders[v], \"disabled\")) for v in [\"rows\", \"cols\"]]\n",
    "    \n",
    "    colors = {k: AlphaColorPicker(value=v, description=k) for k, v in t0.theme.items()}\n",
    "    options =  W.VBox([*colors.values(), *checks.values(), *sliders.values()])\n",
    "    options.add_traits(description=T.Unicode(\"Options\").tag(sync=True))\n",
    "    \n",
    "    def themed(*kwargs):\n",
    "        new_theme = {k: w.value for k, w in colors.items()}\n",
    "        t0.theme = new_theme\n",
    "\n",
    "    [c.observe(themed, \"value\") for c in colors.values()];\n",
    "\n",
    "    box = DockBox([*t, options], layout=dict(height=\"400px\"))\n",
    "\n",
    "    def hi():\n",
    "        nonlocal i\n",
    "        i += 1\n",
    "        c = i % 5 + 30\n",
    "        t[0].send_line(f\"👋  {i} Hello from \\x1B[1;3;{c}mxterm.js\\x1B[0m\")\n",
    "    hi()\n",
    "    \n",
    "    async def hi_forever():\n",
    "        while True:\n",
    "            hi()\n",
    "            await asyncio.sleep(2)\n",
    "\n",
    "    asyncio.get_event_loop().create_task(hi_forever())\n",
    "    \n",
    "    return box"
   ]
  },
  {
   "cell_type": "markdown",
   "metadata": {},
   "source": [
    "## Show the fancy terminal app"
   ]
  },
  {
   "cell_type": "code",
   "execution_count": null,
   "metadata": {},
   "outputs": [],
   "source": [
    "if __name__ == \"__main__\":\n",
    "    box = make_a_fancy_terminal_demo()\n",
    "    display(box)"
   ]
  },
  {
   "cell_type": "code",
   "execution_count": null,
   "metadata": {},
   "outputs": [],
   "source": [
    "if __name__ == \"__main__\":\n",
    "    with __import__(\"importnb\").Notebook():\n",
    "        from wxyz.notebooks import Utils\n",
    "        Utils.maybe_log_widget_counts()"
   ]
  }
 ],
 "metadata": {
  "kernelspec": {
   "display_name": "Python 3 (ipykernel)",
   "language": "python",
   "name": "python3"
  },
  "language_info": {
   "codemirror_mode": {
    "name": "ipython",
    "version": 3
   },
   "file_extension": ".py",
   "mimetype": "text/x-python",
   "name": "python",
   "nbconvert_exporter": "python",
   "pygments_lexer": "ipython3",
   "version": "3.11.0"
  }
 },
 "nbformat": 4,
 "nbformat_minor": 4
}
