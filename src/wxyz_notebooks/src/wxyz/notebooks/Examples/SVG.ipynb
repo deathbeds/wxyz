{
 "cells": [
  {
   "cell_type": "markdown",
   "metadata": {},
   "source": [
    "# SVGBox"
   ]
  },
  {
   "cell_type": "code",
   "execution_count": null,
   "metadata": {},
   "outputs": [],
   "source": [
    "from pathlib import Path\n",
    "import ipywidgets as W, traitlets as T, IPython as I, lxml.etree as E\n",
    "from wxyz.svg import SVGBox\n",
    "from wxyz.svg.widget_svg import DEFAULT_ATTR\n",
    "from wxyz.html import Fullscreen\n",
    "from wxyz.lab import DockPop\n",
    "from wxyz.notebooks import Examples"
   ]
  },
  {
   "cell_type": "markdown",
   "metadata": {},
   "source": [
    "Consider an `ipywidgets.VBox` or `ipywidgets.HBox`."
   ]
  },
  {
   "cell_type": "code",
   "execution_count": null,
   "metadata": {},
   "outputs": [],
   "source": [
    "sliders = [W.FloatSlider(description=x, orientation='vertical', min=-100, max=100) for x in \"xyz\"]\n",
    "box = W.HBox(sliders, description=\"Woo\")"
   ]
  },
  {
   "cell_type": "code",
   "execution_count": null,
   "metadata": {},
   "outputs": [],
   "source": [
    "if __name__ == \"__main__\":\n",
    "    I.display.display(DockPop([box], mode=\"split-right\"))"
   ]
  },
  {
   "cell_type": "markdown",
   "metadata": {},
   "source": [
    "The `wxyz.svg.SVGBox` is like an except that `children` are layed out to fill the extent of elements of an SVG."
   ]
  },
  {
   "cell_type": "markdown",
   "metadata": {},
   "source": [
    "## An SVG\n",
    "\n",
    "First we need an SVG, like [<img src=\"./example.svg\" align=\"center\" style=\"height:3em; display: inline-box;\"/> `example.svg`](./example.svg), authored in [Inkscape](https://inkscape.org)."
   ]
  },
  {
   "cell_type": "code",
   "execution_count": null,
   "metadata": {},
   "outputs": [],
   "source": [
    "example = Path(Examples.__file__).parent / \"example.svg\""
   ]
  },
  {
   "cell_type": "code",
   "execution_count": null,
   "metadata": {},
   "outputs": [],
   "source": [
    "svg = SVGBox(\n",
    "    sliders,\n",
    "    svg_file=str(example),\n",
    "    area_widgets=dict(x=0, y=1, z=2),\n",
    "    layout=dict(width=\"100%\", height=\"100%\", overflow=\"hidden\")\n",
    ")\n",
    "\n",
    "box.children = [svg]"
   ]
  },
  {
   "cell_type": "markdown",
   "metadata": {},
   "source": [
    "## Areas"
   ]
  },
  {
   "cell_type": "markdown",
   "metadata": {},
   "source": [
    "It contains a number of elements that have a _XML namespaced-attribute_ defined in `SVGBox.area_attr`."
   ]
  },
  {
   "cell_type": "markdown",
   "metadata": {},
   "source": [
    "These areas can be replaced with `children`"
   ]
  },
  {
   "cell_type": "code",
   "execution_count": null,
   "metadata": {},
   "outputs": [],
   "source": [
    "area_widgets = W.HTML()\n",
    "T.dlink((svg, \"area_widgets\"), (area_widgets, \"value\"), lambda x: f\"area widgets {x}\")"
   ]
  },
  {
   "cell_type": "code",
   "execution_count": null,
   "metadata": {},
   "outputs": [],
   "source": [
    "if __name__ == \"__main__\":\n",
    "    I.display.display(area_widgets)"
   ]
  },
  {
   "cell_type": "markdown",
   "metadata": {},
   "source": [
    "## Visibility\n",
    "\n",
    "The visibility of many parts of the display can be shown:"
   ]
  },
  {
   "cell_type": "code",
   "execution_count": null,
   "metadata": {},
   "outputs": [],
   "source": [
    "visible_areas = W.Combobox(description=\"Visible\", options=['*', 'x', '(x|z)'])\n",
    "show_svg = W.Checkbox(description=\"show SVG\")\n",
    "T.dlink((visible_areas, \"value\"), (svg, \"visible_areas\"), lambda x: [x])\n",
    "T.link((svg, \"show_svg\"), (show_svg, \"value\"))"
   ]
  },
  {
   "cell_type": "code",
   "execution_count": null,
   "metadata": {},
   "outputs": [],
   "source": [
    "if __name__ == \"__main__\":\n",
    "    I.display.display(visible_areas, show_svg)"
   ]
  },
  {
   "cell_type": "markdown",
   "metadata": {},
   "source": [
    "## Pan and Zoom\n",
    "\n",
    "[d3-zoom](https://github.com/d3/d3-zoom) is used for pan and zoom behaviors, and can be read/written.\n",
    "\n",
    "> **Warning** having multiple copies of the same SVG introduces instability due to `id` clashes, etc."
   ]
  },
  {
   "cell_type": "code",
   "execution_count": null,
   "metadata": {},
   "outputs": [],
   "source": [
    "zoom_lock = W.Checkbox(description=\"zoom lock\"); W.jslink((svg, \"zoom_lock\"), (zoom_lock, \"value\"))\n",
    "zoom_x = W.FloatSlider(description=\"zoom_x\", min=-100, max=100); W.jslink((svg, \"zoom_x\"), (zoom_x, \"value\"))\n",
    "zoom_y = W.FloatSlider(description=\"zoom_y\", min=-100, max=100); W.jslink((svg, \"zoom_y\"), (zoom_y, \"value\"))\n",
    "zoom_k = W.FloatSlider(description=\"zoom_k\", min=0.01, max=3); W.jslink((svg, \"zoom_k\"), (zoom_k, \"value\"));\n",
    "[W.jslink((s, \"value\"), (svg, f\"zoom_{s.description}\")) for s in sliders if s.description in \"xy\"]\n",
    "[W.jslink((sliders[i], \"value\"), (svg, f\"zoom_{s}\")) for i, s in enumerate(\"xyk\")];"
   ]
  },
  {
   "cell_type": "code",
   "execution_count": null,
   "metadata": {},
   "outputs": [],
   "source": [
    "if __name__ == \"__main__\":\n",
    "    I.display.display(zoom_lock, zoom_x, zoom_y, zoom_k)"
   ]
  },
  {
   "cell_type": "code",
   "execution_count": null,
   "metadata": {},
   "outputs": [],
   "source": [
    "app = W.VBox([\n",
    "    W.HBox([show_svg, area_widgets, visible_areas]),\n",
    "    svg,\n",
    "    W.HBox([zoom_lock, zoom_x, zoom_y, zoom_k])\n",
    "])\n",
    "box.children = [app]"
   ]
  },
  {
   "cell_type": "code",
   "execution_count": null,
   "metadata": {
    "jupyter": {
     "source_hidden": true
    }
   },
   "outputs": [],
   "source": [
    "if __name__ == \"__main__\":\n",
    "    with __import__(\"importnb\").Notebook():\n",
    "        from wxyz.notebooks import Utils\n",
    "        Utils.maybe_log_widget_counts()"
   ]
  }
 ],
 "metadata": {
  "kernelspec": {
   "display_name": "Python 3 (ipykernel)",
   "language": "python",
   "name": "python3"
  },
  "language_info": {
   "codemirror_mode": {
    "name": "ipython",
    "version": 3
   },
   "file_extension": ".py",
   "mimetype": "text/x-python",
   "name": "python",
   "nbconvert_exporter": "python",
   "pygments_lexer": "ipython3",
   "version": "3.11.0"
  },
  "toc-autonumbering": true
 },
 "nbformat": 4,
 "nbformat_minor": 4
}
