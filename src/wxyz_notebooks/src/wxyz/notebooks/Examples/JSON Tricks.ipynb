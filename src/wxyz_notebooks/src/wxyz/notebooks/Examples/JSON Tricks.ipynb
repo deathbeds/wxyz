{
 "cells": [
  {
   "cell_type": "markdown",
   "metadata": {},
   "source": [
    "# JSON Tricks\n",
    "\n",
    "Examples of doing interesting things with `Editor` and JSON-related `Fn`s."
   ]
  },
  {
   "cell_type": "code",
   "execution_count": null,
   "metadata": {},
   "outputs": [],
   "source": [
    "if __name__ == \"__main__\":\n",
    "    %pip install -q wxyz-notebooks"
   ]
  },
  {
   "cell_type": "code",
   "execution_count": null,
   "metadata": {},
   "outputs": [],
   "source": [
    "import ipywidgets as W\n",
    "import traitlets as T\n",
    "from wxyz.lab import Editor, DockBox\n",
    "from wxyz.core import JSON, JSONSchema, JSONPointer"
   ]
  },
  {
   "cell_type": "code",
   "execution_count": null,
   "metadata": {},
   "outputs": [],
   "source": [
    "document_source = Editor(\"\"\"{\"foo\": 1}\"\"\", description=\"JSON Document\", config=dict(mode=\"json\", theme=\"zenburn\"))\n",
    "schema_source = Editor(\"\"\"{\"type\": \"object\"}\"\"\", description=\"JSON Schema\", config=dict(mode=\"json\", theme=\"zenburn\"))\n",
    "pointer_source = Editor(\"\"\"/foo\"\"\", description=\"JSON Pointer\", config=dict(mode=\"json\", theme=\"zenburn\"))\n",
    "pointer_output = Editor(description=\"Pointed\", config=dict(mode=\"json\", theme=\"zenburn\"))\n",
    "errors = Editor(description=\"Errors\")"
   ]
  },
  {
   "cell_type": "code",
   "execution_count": null,
   "metadata": {},
   "outputs": [],
   "source": [
    "document = JSON(\"\"\"{\"foo\": null}\"\"\")\n",
    "W.jsdlink((document_source, \"value\"), (document, \"source\"))\n",
    "W.jsdlink((document, \"error\"), (errors, \"value\"))"
   ]
  },
  {
   "cell_type": "code",
   "execution_count": null,
   "metadata": {},
   "outputs": [],
   "source": [
    "schema = JSONSchema(schema={\"type\": \"object\"})\n",
    "schema_json = JSON()\n",
    "W.jsdlink((schema_source, \"value\"), (schema_json, \"source\"))\n",
    "W.jsdlink((schema_json, \"value\"), (schema, \"schema\"))\n",
    "W.jsdlink((document, \"value\"), (schema, \"source\"))\n",
    "W.jsdlink((schema_json, \"error\"), (errors, \"value\"))\n",
    "W.jsdlink((schema, \"error\"), (errors, \"value\"))"
   ]
  },
  {
   "cell_type": "code",
   "execution_count": null,
   "metadata": {},
   "outputs": [],
   "source": [
    "pointer = JSONPointer(pointer=\"/foo\")\n",
    "W.jsdlink((document, \"value\"), (pointer, \"source\"))\n",
    "W.jsdlink((pointer_source, \"value\"), (pointer, \"pointer\"))\n",
    "W.jsdlink((pointer, \"value\"), (pointer_output, \"value\"))\n",
    "W.jsdlink((pointer, \"error\"), (errors, \"value\"))"
   ]
  },
  {
   "cell_type": "code",
   "execution_count": null,
   "metadata": {},
   "outputs": [],
   "source": [
    "json_tricks = DockBox([\n",
    "    document_source,\n",
    "    schema_source,\n",
    "    W.VBox([\n",
    "        pointer_source,\n",
    "        pointer_output\n",
    "    ]),\n",
    "    errors\n",
    "], layout=dict(height=\"40vh\"), dock_layout={\n",
    "        'type': 'split-area',\n",
    "        'orientation': 'horizontal',\n",
    "        'children': [\n",
    "            {'type': 'split-area', 'orientation': 'vertical', 'children': [\n",
    "                {'type': 'tab-area', 'widgets': [0], 'currentIndex': 0},\n",
    "                {'type': 'tab-area', 'widgets': [1], 'currentIndex': 0},\n",
    "            ], 'sizes': [1, 1]},\n",
    "\n",
    "            {'type': 'split-area', 'orientation': 'vertical', 'children': [\n",
    "                {'type': 'tab-area', 'widgets': [2], 'currentIndex': 0},\n",
    "                {'type': 'tab-area', 'widgets': [3], 'currentIndex': 0},\n",
    "            ], 'sizes': [3, 1]},\n",
    "\n",
    "        ],\n",
    "        'sizes': [1, 1]\n",
    "    })"
   ]
  },
  {
   "cell_type": "code",
   "execution_count": null,
   "metadata": {},
   "outputs": [],
   "source": [
    "json_tricks"
   ]
  },
  {
   "cell_type": "code",
   "execution_count": null,
   "metadata": {
    "jupyter": {
     "source_hidden": true
    }
   },
   "outputs": [],
   "source": [
    "if __name__ == \"__main__\":\n",
    "    with __import__(\"importnb\").Notebook():\n",
    "        from wxyz.notebooks import Utils\n",
    "        Utils.maybe_log_widget_counts()"
   ]
  }
 ],
 "metadata": {
  "kernelspec": {
   "display_name": "Python 3 (ipykernel)",
   "language": "python",
   "name": "python3"
  },
  "language_info": {
   "codemirror_mode": {
    "name": "ipython",
    "version": 3
   },
   "file_extension": ".py",
   "mimetype": "text/x-python",
   "name": "python",
   "nbconvert_exporter": "python",
   "pygments_lexer": "ipython3",
   "version": "3.11.0"
  }
 },
 "nbformat": 4,
 "nbformat_minor": 4
}
