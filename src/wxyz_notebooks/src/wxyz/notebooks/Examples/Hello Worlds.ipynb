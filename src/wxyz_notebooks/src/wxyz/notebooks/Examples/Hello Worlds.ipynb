{
 "cells": [
  {
   "cell_type": "markdown",
   "metadata": {},
   "source": [
    "<img src=\"https://uploads6.wikiart.org/images/m-c-escher/puddle.jpg!Large.jpg\" align=\"right\"/>\n",
    "\n",
    "## What is a Widget\n",
    "Jupyter [Widgets](https://jupyter.org/widgets) are an opinionated, limited implementation of the [Observer pattern](https://en.wikipedia.org/wiki/Observer_pattern) with a primary focus on making the state of Jupyter [Kernels](https://jupyter.org/kernels) more immediately tangible than the traditional [REPL](https://en.wikipedia.org/wiki/Read%E2%80%93eval%E2%80%93print_loop).\n",
    "\n",
    "## Special/Not Special\n",
    "Originally implemented directly in the [IPython](https://ipython.org) notebook, widgets were one of the final pieces of [The Big Split (2015)](https://blog.jupyter.org/the-big-split-9d7b88a031a7), and are one of the few notebook pieces which mostly work in Notebook Classic and JupyterLab. While once enjoying special status in the Notebook, in JupyterLab they are just like any other extension, and careful reading of the [jupyter-widgets source](https://github.com/jupyter-widgets/ipywidgets/tree/master/packages) is very instructive on how to build ecosystems on top of the JupyterLab application architecture.\n",
    "\n",
    "## The $n$ Worlds\n",
    "Widgets occupy a number of spaces:\n",
    "- Kernel: widgets exist in a kernel, and typically follow the \"native\" observer interface\n",
    "- Message: widgets implement their own protocol on top of the Jupyter message spec  \n",
    "- Outputs: widgets get rendered as a media type output\n",
    "- Browser: widgets are canonically represented in the browser with a Backbone-based model system\n",
    "- Notebook: widgets can be serialized to JSON in the notebook\n",
    "\n",
    "Usually all of these things are pretty separate, but what if they weren't?"
   ]
  },
  {
   "cell_type": "code",
   "execution_count": null,
   "metadata": {},
   "outputs": [],
   "source": [
    "if __name__ == \"__main__\":\n",
    "    %pip install -q wxyz-notebooks"
   ]
  },
  {
   "cell_type": "code",
   "execution_count": null,
   "metadata": {},
   "outputs": [],
   "source": [
    "import ipywidgets as W\n",
    "import traitlets as T\n",
    "import os"
   ]
  },
  {
   "cell_type": "code",
   "execution_count": null,
   "metadata": {},
   "outputs": [],
   "source": [
    "from wxyz.tpl_jinja import Template\n",
    "from wxyz.lab import Markdown, Editor, DockBox\n",
    "from wxyz.core import JSON"
   ]
  },
  {
   "cell_type": "markdown",
   "metadata": {},
   "source": [
    "First, consider taking some of the traditional roles of an input, and putting them in an output."
   ]
  },
  {
   "cell_type": "code",
   "execution_count": null,
   "metadata": {},
   "outputs": [],
   "source": [
    "flex = dict(layout=dict(flex=\"1\"))\n",
    "\n",
    "template_source = Editor(\n",
    "\"\"\"# {{ greetings[greeting] | default(\"Hello\") }} {{ planets[\"planets\"][planet][\"name\"] | default(\"World\") }}\n",
    "{% set moons = planets[\"planets\"][planet][\"moons\"] %}\n",
    "{%- if moons -%}\n",
    "> And also:\n",
    "{% for moon in moons -%}\n",
    "  - {{ moon }}\n",
    "{% endfor -%}\n",
    "{%- endif -%}\"\"\", \n",
    "    description=\"Jinja2 Template\",\n",
    "    config=dict(mode=\"text/jinja2\", theme=\"zenburn\"),\n",
    "    **flex)\n",
    "template_source"
   ]
  },
  {
   "cell_type": "markdown",
   "metadata": {},
   "source": [
    "Then think about putting the roles of a kernel library in a widget."
   ]
  },
  {
   "cell_type": "code",
   "execution_count": null,
   "metadata": {},
   "outputs": [],
   "source": [
    "output = Editor(description=\"Template Output\", config=dict(mode=\"markdown\", theme=\"zenburn\"))\n",
    "template = Template()\n",
    "W.jsdlink((template_source, \"value\"), (template, \"source\"))\n",
    "W.jsdlink((template, \"value\"), (output, \"value\"))\n",
    "output"
   ]
  },
  {
   "cell_type": "markdown",
   "metadata": {},
   "source": [
    "At present, there is no such thing as an evented, JSON-compatible widget, so we'll kinda punt and build a custom \"data\" widget."
   ]
  },
  {
   "cell_type": "code",
   "execution_count": null,
   "metadata": {},
   "outputs": [],
   "source": [
    "from urllib.request import urlopen"
   ]
  },
  {
   "cell_type": "markdown",
   "metadata": {},
   "source": [
    "> Bad Demo: should probably just in-line this"
   ]
  },
  {
   "cell_type": "code",
   "execution_count": null,
   "metadata": {},
   "outputs": [],
   "source": [
    "if os.environ.get(\"WXYZ_IS_ONLINE\"):\n",
    "    planet_data = urlopen(\"https://raw.githubusercontent.com/dariusk/corpora/master/data/science/planets.json\", timeout=1).read().decode(\"utf-8\")\n",
    "else:\n",
    "    planet_data = \"\"\"{\"planets\": [\n",
    "        {\"name\": \"Alderaan\", \"moons\": [\"That's no Moon...\"]},\n",
    "        {\"name\": \"Yavin\", \"moons\": [\"Yavin 4\", \"Yavin 8\"]}\n",
    "    ]}\"\"\""
   ]
  },
  {
   "cell_type": "code",
   "execution_count": null,
   "metadata": {},
   "outputs": [],
   "source": [
    "data_editor = Editor(planet_data, description=\"Some planet-like things\", config=dict(theme=\"zenburn\", mode=\"json\"), layout=dict(max_height=\"60vh\", height=\"60vh\"))\n",
    "json = JSON(data_editor.value)\n",
    "W.jsdlink((data_editor, \"value\"), (json, \"source\"))\n",
    "data_editor"
   ]
  },
  {
   "cell_type": "code",
   "execution_count": null,
   "metadata": {},
   "outputs": [],
   "source": [
    "class Context(W.Widget):\n",
    "    greetings = T.List(T.Unicode(), default_value=[\n",
    "        'Hi', \"Howdy\", \"Bon Jour\", \"今日は\"\n",
    "    ]).tag(sync=True)\n",
    "    greeting = T.Int(0).tag(sync=True)\n",
    "    planet = T.Int(0).tag(sync=True)\n",
    "    planets = T.Dict().tag(sync=True)\n",
    "context = Context()\n",
    "W.jsdlink((json, \"value\"), (context, \"planets\"))"
   ]
  },
  {
   "cell_type": "code",
   "execution_count": null,
   "metadata": {},
   "outputs": [],
   "source": [
    "template.context = context"
   ]
  },
  {
   "cell_type": "markdown",
   "metadata": {},
   "source": [
    "There are even more useful widgets in `ipywidgets`, like nice ways to represent numbers, colors, etc."
   ]
  },
  {
   "cell_type": "code",
   "execution_count": null,
   "metadata": {},
   "outputs": [],
   "source": [
    "greeting = W.IntSlider(description=\"greeting\", max=len(context.greetings) - 1)\n",
    "planet = W.IntSlider(description=\"planet\", max=len(json.value[\"planets\"]) - 1)\n",
    "W.dlink((json, \"value\"), (planet, \"max\"), lambda x: len(x[\"planets\"]) - 1 if x.get(\"planets\") else 0)\n",
    "W.jsdlink((greeting, \"value\"), (context, \"greeting\"))\n",
    "W.jsdlink((planet, \"value\"), (context, \"planet\"))\n",
    "W.HBox([greeting, planet])"
   ]
  },
  {
   "cell_type": "markdown",
   "metadata": {},
   "source": [
    "Finally, we can consider further transformations of existing values."
   ]
  },
  {
   "cell_type": "code",
   "execution_count": null,
   "metadata": {},
   "outputs": [],
   "source": [
    "md = Markdown(description=\"a Markdown processor\")\n",
    "W.jsdlink((template, \"value\"), (md, \"source\"))"
   ]
  },
  {
   "cell_type": "markdown",
   "metadata": {},
   "source": [
    "Which in turn can be visualized."
   ]
  },
  {
   "cell_type": "code",
   "execution_count": null,
   "metadata": {},
   "outputs": [],
   "source": [
    "html = W.HTMLMath(discription=\"the final render\").add_class(\"jp-RenderedHTMLCommon\")\n",
    "T.dlink((md, \"value\"), (html, \"value\"), str)\n",
    "html"
   ]
  },
  {
   "cell_type": "markdown",
   "metadata": {},
   "source": [
    "However, things can always go wrong:"
   ]
  },
  {
   "cell_type": "code",
   "execution_count": null,
   "metadata": {},
   "outputs": [],
   "source": [
    "error = Editor(\"errors will appear here\", description=\"errors be here\", **flex)\n",
    "W.jsdlink((template, \"error\"), (error, \"value\"))"
   ]
  },
  {
   "cell_type": "code",
   "execution_count": null,
   "metadata": {},
   "outputs": [],
   "source": [
    "error"
   ]
  },
  {
   "cell_type": "markdown",
   "metadata": {},
   "source": [
    "If you were following along at home, you've amassed quite a collection of widgets. Here they are again, all together."
   ]
  },
  {
   "cell_type": "code",
   "execution_count": null,
   "metadata": {},
   "outputs": [],
   "source": [
    "html_box = W.VBox([greeting, planet, html])\n",
    "html_box.add_traits(description=T.Unicode(\"Output\").tag(sync=True),\n",
    "                    icon_class=T.Unicode(\"jp-RunIcon\").tag(sync=True))\n",
    "hello_worlds = DockBox([\n",
    "    data_editor, \n",
    "    template_source, \n",
    "    html_box,\n",
    "    W.VBox([output, error]), \n",
    "], layout={\"height\": \"60vh\"}, dock_layout={\n",
    "        'type': 'split-area',\n",
    "        'orientation': 'horizontal',\n",
    "        'children': [\n",
    "            {'type': 'split-area', 'orientation': 'vertical', 'children': [\n",
    "                {'type': 'tab-area', 'widgets': [0], 'currentIndex': 0},\n",
    "                {'type': 'tab-area', 'widgets': [1], 'currentIndex': 0},\n",
    "            ], 'sizes': [1, 1]},\n",
    "\n",
    "            {'type': 'split-area', 'orientation': 'vertical', 'children': [\n",
    "                {'type': 'tab-area', 'widgets': [2], 'currentIndex': 0},\n",
    "                {'type': 'tab-area', 'widgets': [3], 'currentIndex': 0},\n",
    "            ], 'sizes': [3, 1]},\n",
    "\n",
    "        ],\n",
    "        'sizes': [1, 1]\n",
    "    })"
   ]
  },
  {
   "cell_type": "code",
   "execution_count": null,
   "metadata": {},
   "outputs": [],
   "source": [
    "hello_worlds"
   ]
  },
  {
   "cell_type": "markdown",
   "metadata": {},
   "source": [
    "If those look kinda of like JupyterLab tabs, it's because they are. Give'em a drag."
   ]
  },
  {
   "cell_type": "code",
   "execution_count": null,
   "metadata": {
    "jupyter": {
     "source_hidden": true
    }
   },
   "outputs": [],
   "source": [
    "if __name__ == \"__main__\":\n",
    "    with __import__(\"importnb\").Notebook():\n",
    "        from wxyz.notebooks import Utils\n",
    "        Utils.maybe_log_widget_counts()"
   ]
  }
 ],
 "metadata": {
  "kernelspec": {
   "display_name": "Python 3 (ipykernel)",
   "language": "python",
   "name": "python3"
  },
  "language_info": {
   "codemirror_mode": {
    "name": "ipython",
    "version": 3
   },
   "file_extension": ".py",
   "mimetype": "text/x-python",
   "name": "python",
   "nbconvert_exporter": "python",
   "pygments_lexer": "ipython3",
   "version": "3.11.0"
  }
 },
 "nbformat": 4,
 "nbformat_minor": 4
}
