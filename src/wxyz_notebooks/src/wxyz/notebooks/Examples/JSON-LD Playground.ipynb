{
 "cells": [
  {
   "cell_type": "markdown",
   "metadata": {},
   "source": [
    "# JSON-LD\n",
    "\n",
    "[JSON Linked Data](https://json-ld.org/) provides a powerful way to interact with the _meaning_ of a JSON document."
   ]
  },
  {
   "cell_type": "code",
   "execution_count": null,
   "metadata": {},
   "outputs": [],
   "source": [
    "import ipywidgets as W\n",
    "from wxyz.jsonld import Expand, Compact, Flatten, Frame, Normalize\n",
    "from wxyz.lab import DockBox, Editor\n",
    "from wxyz.core import JSON"
   ]
  },
  {
   "cell_type": "code",
   "execution_count": null,
   "metadata": {},
   "outputs": [],
   "source": [
    "flex = lambda x=1: dict(layout=dict(flex=f\"{x}\"))\n",
    "editor_opts = dict(config=dict(theme=\"material\", mode=\"application/ld+json\"))"
   ]
  },
  {
   "cell_type": "code",
   "execution_count": null,
   "metadata": {},
   "outputs": [],
   "source": [
    "context = JSON(source=\"\"\"{\n",
    "    \"@context\": {\n",
    "        \"@vocab\": \"http://schema.org/\" \n",
    "    }\n",
    "}\"\"\")\n",
    "document = JSON(source=\"\"\"{\n",
    "    \"@graph\": [{\n",
    "        \"@type\": \"Person\",\n",
    "        \"@id\": \"this-guy\",\n",
    "        \"name\": \"Jekyll\",\n",
    "        \"jobTitle\": \"Doctor\"\n",
    "    },{\n",
    "        \"@type\": \"Person\",\n",
    "        \"@id\": \"this-guy\",\n",
    "        \"name\": \"Hyde\",\n",
    "        \"jobTitle\": \"Mister\"\n",
    "    }]\n",
    "}\"\"\")"
   ]
  },
  {
   "cell_type": "code",
   "execution_count": null,
   "metadata": {},
   "outputs": [],
   "source": [
    "context_source = Editor(description=\"JSON-LD Context\", **flex(), **editor_opts)\n",
    "document_source = Editor(description=\"JSON Document\", **flex(), **editor_opts)\n",
    "W.jslink((context, \"source\"), (context_source, \"value\"))\n",
    "W.jslink((document, \"source\"), (document_source, \"value\"));"
   ]
  },
  {
   "cell_type": "code",
   "execution_count": null,
   "metadata": {},
   "outputs": [],
   "source": [
    "expand = Expand()\n",
    "expand_output = Editor(description=\"Expanded\", **editor_opts)\n",
    "W.jsdlink((expand, \"value\"), (expand_output, \"value\"))\n",
    "W.jslink((document, \"value\"), (expand, \"source\"))\n",
    "W.jslink((context, \"value\"), (expand, \"expand_context\"));"
   ]
  },
  {
   "cell_type": "code",
   "execution_count": null,
   "metadata": {},
   "outputs": [],
   "source": [
    "compact = Compact()\n",
    "compact_output = Editor(description=\"Compacted\", **editor_opts)\n",
    "W.jsdlink((compact, \"value\"), (compact_output, \"value\"))\n",
    "W.jslink((document, \"value\"), (compact, \"source\"))\n",
    "W.jslink((context, \"value\"), (compact, \"context\"))\n",
    "W.jslink((context, \"value\"), (compact, \"expand_context\"));"
   ]
  },
  {
   "cell_type": "code",
   "execution_count": null,
   "metadata": {},
   "outputs": [],
   "source": [
    "flatten = Flatten()\n",
    "flatten_output = Editor(description=\"Flattened\", **editor_opts)\n",
    "W.jsdlink((flatten, \"value\"), (flatten_output, \"value\"))\n",
    "W.jslink((document, \"value\"), (flatten, \"source\"))\n",
    "W.jslink((context, \"value\"), (flatten, \"context\"))\n",
    "W.jslink((context, \"value\"), (flatten, \"expand_context\"));"
   ]
  },
  {
   "cell_type": "code",
   "execution_count": null,
   "metadata": {},
   "outputs": [],
   "source": [
    "error = Editor(\"errors will appear here\", description=\"errors be here\", **flex(1))\n",
    "W.jslink((expand, \"error\"), (error, \"value\"))\n",
    "W.jslink((compact, \"error\"), (error, \"value\"))\n",
    "W.jslink((flatten, \"error\"), (error, \"value\"));"
   ]
  },
  {
   "cell_type": "code",
   "execution_count": null,
   "metadata": {},
   "outputs": [],
   "source": [
    "jsonld_playground = DockBox([\n",
    "    document_source, \n",
    "    context_source, \n",
    "    expand_output, \n",
    "    compact_output, \n",
    "    flatten_output, \n",
    "    error\n",
    "], layout=dict(height=\"60vh\"), dock_layout = {\n",
    "        'type': 'split-area',\n",
    "        'orientation': 'horizontal',\n",
    "        'children': [\n",
    "            {'type': 'split-area', 'orientation': 'vertical', 'children': [\n",
    "                {'type': 'tab-area', 'widgets': [0], 'currentIndex': 0},\n",
    "                {'type': 'tab-area', 'widgets': [1], 'currentIndex': 0},\n",
    "            ], 'sizes': [2, 1]},\n",
    "\n",
    "            {'type': 'split-area', 'orientation': 'vertical', 'children': [\n",
    "                {'type': 'tab-area', 'widgets': [2], 'currentIndex': 0},\n",
    "                {'type': 'tab-area', 'widgets': [3], 'currentIndex': 0},\n",
    "            ], 'sizes': [1, 1]},\n",
    "\n",
    "            {'type': 'split-area', 'orientation': 'vertical', 'children': [\n",
    "                {'type': 'tab-area', 'widgets': [4], 'currentIndex': 0},\n",
    "                {'type': 'tab-area', 'widgets': [5], 'currentIndex': 0}\n",
    "            ], 'sizes': [1, 1]},\n",
    "        ],\n",
    "        'sizes': [1, 1, 1]\n",
    "    })"
   ]
  },
  {
   "cell_type": "code",
   "execution_count": null,
   "metadata": {},
   "outputs": [],
   "source": [
    "jsonld_playground"
   ]
  },
  {
   "cell_type": "code",
   "execution_count": null,
   "metadata": {
    "jupyter": {
     "source_hidden": true
    }
   },
   "outputs": [],
   "source": [
    "if __name__ == \"__main__\":\n",
    "    with __import__(\"importnb\").Notebook():\n",
    "        from wxyz.notebooks import Utils\n",
    "        Utils.maybe_log_widget_counts()"
   ]
  }
 ],
 "metadata": {
  "kernelspec": {
   "display_name": "Python 3 (ipykernel)",
   "language": "python",
   "name": "python3"
  },
  "language_info": {
   "codemirror_mode": {
    "name": "ipython",
    "version": 3
   },
   "file_extension": ".py",
   "mimetype": "text/x-python",
   "name": "python",
   "nbconvert_exporter": "python",
   "pygments_lexer": "ipython3",
   "version": "3.11.0"
  }
 },
 "nbformat": 4,
 "nbformat_minor": 4
}
