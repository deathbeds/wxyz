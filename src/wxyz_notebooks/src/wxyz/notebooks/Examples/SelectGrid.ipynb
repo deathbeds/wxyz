{
 "cells": [
  {
   "cell_type": "markdown",
   "metadata": {},
   "source": [
    "# SelectGrid\n",
    "\n",
    "Extending [StyleGrid](./StyleGrid%20I.ipynb) even further, `SelectGrid` exposes the interactive state of the grid back to a kernel."
   ]
  },
  {
   "cell_type": "code",
   "execution_count": null,
   "metadata": {},
   "outputs": [],
   "source": [
    "from wxyz.datagrid import SelectGrid, GridStyle"
   ]
  },
  {
   "cell_type": "code",
   "execution_count": null,
   "metadata": {},
   "outputs": [],
   "source": [
    "import numpy as np, pandas as pd, traitlets as T, ipywidgets as W, importnb\n",
    "from wxyz.html import AlphaColorPicker\n",
    "from wxyz.lab import DockBox"
   ]
  },
  {
   "cell_type": "code",
   "execution_count": null,
   "metadata": {},
   "outputs": [],
   "source": [
    "flex = dict(layout=dict(flex=\"1\"))"
   ]
  },
  {
   "cell_type": "code",
   "execution_count": null,
   "metadata": {},
   "outputs": [],
   "source": [
    "with importnb.Notebook():\n",
    "    try:\n",
    "        from StyleGrid_I import make_a_grid_styler\n",
    "    except:\n",
    "        from .StyleGrid_I import make_a_grid_styler"
   ]
  },
  {
   "cell_type": "markdown",
   "metadata": {},
   "source": [
    "## Selection Style \n",
    "\n",
    "`GridStyle` exposes all of the knobs, but here we're just interested in the selection values:"
   ]
  },
  {
   "cell_type": "code",
   "execution_count": null,
   "metadata": {},
   "outputs": [],
   "source": [
    "def make_select_grid(GridClass=SelectGrid, df=None):\n",
    "    pg = DockBox(layout=dict(height=\"60vh\"))\n",
    "    dg = pg.dg = GridClass()\n",
    "    dg2 = pg.dg2 = GridClass()\n",
    "    dg3 = pg.dg3 = GridClass()\n",
    "    \n",
    "    rando = None\n",
    "    if df is not None:\n",
    "        dg.value = df\n",
    "    else:\n",
    "        with W.Output():\n",
    "            @W.interact\n",
    "            def rando(rows=(1, 1000), cols=(1, 1000)):\n",
    "                dg.value = np.random.rand(rows, cols)\n",
    "    x, y = [\n",
    "        [\n",
    "            W.jslink((w, \"value\"), (dg, f\"scroll_{v}\")),\n",
    "            W.jslink((pg.dg, f\"max_{v}\"), (w, \"max\")),\n",
    "            w,\n",
    "        ][-1]\n",
    "        for i, v in enumerate(\"xy\")\n",
    "        for w in [W.IntSlider(description=f\"${v}$\", layout=dict(flex=\"1\"))] \n",
    "    ]\n",
    "    \n",
    "    def gloc(g):\n",
    "        if g.selections:\n",
    "            s = g.selections[0]\n",
    "            return g.value.iloc[s[2]: s[3]+ 1, s[0]:s[1] + 1]\n",
    "    \n",
    "    def _slice(c):\n",
    "        if dg.selections:\n",
    "            s = dg.selections[0]\n",
    "            dg2.value = gloc(dg)\n",
    "            dg.description = f\"{dg2.value.values.sum()}\"\n",
    "        \n",
    "    \n",
    "    def _slice2(c):\n",
    "        if dg2.selections:\n",
    "            s = dg2.selections[0]\n",
    "            dg3.value = gloc(dg2)\n",
    "            dg2.description = f\"{dg3.value.values.sum()}\"\n",
    "    \n",
    "    def _slice3(c):\n",
    "        if dg3.selections:\n",
    "            s = dg3.selections[0]\n",
    "            v = gloc(dg3)\n",
    "            dg3.description = f\"{v.values.sum()}\"\n",
    "    \n",
    "    dg.observe(_slice, [\"selections\", \"value\"])\n",
    "    dg2.observe(_slice2, [\"selections\", \"value\"])\n",
    "    dg3.observe(_slice3, [\"selections\", \"value\"])\n",
    "    \n",
    "    tabs = W.ToggleButton(description=\"tabs\")\n",
    "    T.link((tabs, \"value\"), (pg, \"hide_tabs\"))\n",
    "    \n",
    "    vp = W.Text(description=\"view\")\n",
    "    T.dlink((pg.dg, \"viewport\"), (vp, \"value\"), str)\n",
    "    \n",
    "    c = make_a_grid_styler(None, pg.dg, pattern=\"select\", default_color=\"rgba(255,0,255,0.125)\")\n",
    "    \n",
    "    hv = W.Text(description=\"hover\")\n",
    "    T.dlink((pg.dg, \"hover_row\"), (hv, \"value\"), lambda x: f\"({pg.dg.hover_row}, {pg.dg.hover_column})\")\n",
    "    T.dlink((pg.dg, \"hover_column\"), (hv, \"value\"), lambda y: f\"({pg.dg.hover_row}, {pg.dg.hover_column})\")\n",
    "    \n",
    "    pg.children = [\n",
    "        W.VBox([*(rando.widget.children if rando else []), vp, hv, x, y, tabs, c]), \n",
    "        dg, \n",
    "        dg2,\n",
    "        dg3\n",
    "    ]\n",
    "    pg.dock_layout ={\n",
    "     'type': 'split-area',\n",
    "     'orientation': 'horizontal',\n",
    "     'children': [{'type': 'tab-area', 'widgets': [1], 'currentIndex': 0},\n",
    "      {'type': 'tab-area', 'widgets': [2], 'currentIndex': 0},\n",
    "      {'type': 'split-area',\n",
    "       'orientation': 'vertical',\n",
    "       'children': [{'type': 'tab-area', 'widgets': [3], 'currentIndex': 0},\n",
    "        {'type': 'tab-area', 'widgets': [0], 'currentIndex': 0}],\n",
    "       'sizes': [1, 1]}],\n",
    "     'sizes': [4, 2, 2]\n",
    "    }\n",
    "    return pg"
   ]
  },
  {
   "cell_type": "code",
   "execution_count": null,
   "metadata": {},
   "outputs": [],
   "source": [
    "if __name__ == \"__main__\":\n",
    "    pg = make_select_grid()\n",
    "    display(pg)\n",
    "\n",
    "    pg.dg.viewport = (21, 30, 10, 18)\n",
    "\n",
    "    i_0 = W.IntSlider(description=\"$i_0$\")\n",
    "    T.dlink((i_0, \"value\"), (pg.dg, \"viewport\"), lambda vc: (vc, *pg.dg.viewport[1:]))\n",
    "\n",
    "    j_0 = W.IntSlider(description=\"$j_0$\")\n",
    "    T.dlink((j_0, \"value\"), (pg.dg, \"viewport\"), lambda vr: (*pg.dg.viewport[:2], vr, *pg.dg.viewport[3:]))\n",
    "    display(W.HBox([i_0, j_0]))"
   ]
  },
  {
   "cell_type": "code",
   "execution_count": null,
   "metadata": {
    "jupyter": {
     "source_hidden": true
    }
   },
   "outputs": [],
   "source": [
    "if __name__ == \"__main__\":\n",
    "    with __import__(\"importnb\").Notebook():\n",
    "        from wxyz.notebooks import Utils\n",
    "        Utils.maybe_log_widget_counts()"
   ]
  }
 ],
 "metadata": {
  "kernelspec": {
   "display_name": "Python 3 (ipykernel)",
   "language": "python",
   "name": "python3"
  },
  "language_info": {
   "codemirror_mode": {
    "name": "ipython",
    "version": 3
   },
   "file_extension": ".py",
   "mimetype": "text/x-python",
   "name": "python",
   "nbconvert_exporter": "python",
   "pygments_lexer": "ipython3",
   "version": "3.11.0"
  }
 },
 "nbformat": 4,
 "nbformat_minor": 4
}
