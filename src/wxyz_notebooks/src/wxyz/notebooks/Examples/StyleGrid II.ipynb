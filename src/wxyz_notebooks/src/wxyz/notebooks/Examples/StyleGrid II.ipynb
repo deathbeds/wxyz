{
 "cells": [
  {
   "cell_type": "markdown",
   "metadata": {},
   "source": [
    "# StyleGrid II\n",
    "\n",
    "The basic styles of [StyleGrid](./StyleGrid%20I.ipynb) can be overriden with custom renderers."
   ]
  },
  {
   "cell_type": "code",
   "execution_count": null,
   "metadata": {},
   "outputs": [],
   "source": [
    "if __name__ == \"__main__\":\n",
    "    %pip install -q wxyz-notebooks"
   ]
  },
  {
   "cell_type": "code",
   "execution_count": null,
   "metadata": {},
   "outputs": [],
   "source": [
    "import pandas as pd, traitlets as T, ipywidgets as W\n",
    "import importnb\n",
    "from wxyz.html import AlphaColorPicker\n",
    "from wxyz.datagrid import StyleGrid, TextRenderer, FixedFunc"
   ]
  },
  {
   "cell_type": "code",
   "execution_count": null,
   "metadata": {},
   "outputs": [],
   "source": [
    "with importnb.Notebook():\n",
    "    try:\n",
    "        from StyleGrid_I import make_style_grid_i\n",
    "    except:\n",
    "        from .StyleGrid_I import make_style_grid_i"
   ]
  },
  {
   "cell_type": "code",
   "execution_count": null,
   "metadata": {},
   "outputs": [],
   "source": [
    "def make_style_grid_ii(GridClass=StyleGrid, df=None, container=None):\n",
    "    pg = make_style_grid_i(GridClass, df, container)\n",
    "    dg = pg.dg\n",
    "    renderers = [\n",
    "        TextRenderer(text_color=\"#ccc\", font=\"14px sans-serif\", format_func=FixedFunc(digits=1)),\n",
    "        TextRenderer(text_color=\"#fff\", font=\"bold 14px sans-serif\", region=\"row-header\"),\n",
    "        TextRenderer(text_color=\"#2196f3\", font=\"bold 24px sans-serif\", region=\"column-header\")\n",
    "    ]\n",
    "\n",
    "    btn = W.Button(description=\"Custom Renderers\")\n",
    "    def _btn_click(*_):\n",
    "        dg.cell_renderers = [] if dg.cell_renderers else renderers \n",
    "\n",
    "    btn.on_click(_btn_click)\n",
    "    \n",
    "    with W.Output():\n",
    "        @W.interact\n",
    "        def renderer_stuff(\n",
    "            digits=W.IntSlider(2, min=0, max=10),\n",
    "            body_color=AlphaColorPicker(description=\"body\"),\n",
    "            row_header_color=AlphaColorPicker(description=\"row header\"),\n",
    "            col_header_color=AlphaColorPicker(description=\"column header\")\n",
    "        ):\n",
    "            body, row, col = renderers\n",
    "            with body.hold_trait_notifications(), row.hold_trait_notifications(), col.hold_trait_notifications():\n",
    "                body.format_func.digits = digits\n",
    "                body.text_color = body_color\n",
    "                row.text_color = row_header_color\n",
    "                col.text_color = col_header_color\n",
    "\n",
    "    pg.children[1].children = (W.VBox([btn, renderer_stuff.widget], layout=dict(min_height=\"13em\")), *pg.children[1].children)\n",
    "    return pg"
   ]
  },
  {
   "cell_type": "code",
   "execution_count": null,
   "metadata": {},
   "outputs": [],
   "source": [
    "if __name__ == \"__main__\":\n",
    "    pg = make_style_grid_ii()\n",
    "    display(pg)"
   ]
  },
  {
   "cell_type": "code",
   "execution_count": null,
   "metadata": {
    "jupyter": {
     "source_hidden": true
    }
   },
   "outputs": [],
   "source": [
    "if __name__ == \"__main__\":\n",
    "    with __import__(\"importnb\").Notebook():\n",
    "        from wxyz.notebooks import Utils\n",
    "        Utils.maybe_log_widget_counts()"
   ]
  }
 ],
 "metadata": {
  "kernelspec": {
   "display_name": "Python 3 (ipykernel)",
   "language": "python",
   "name": "python3"
  },
  "language_info": {
   "codemirror_mode": {
    "name": "ipython",
    "version": 3
   },
   "file_extension": ".py",
   "mimetype": "text/x-python",
   "name": "python",
   "nbconvert_exporter": "python",
   "pygments_lexer": "ipython3",
   "version": "3.11.0"
  }
 },
 "nbformat": 4,
 "nbformat_minor": 4
}
