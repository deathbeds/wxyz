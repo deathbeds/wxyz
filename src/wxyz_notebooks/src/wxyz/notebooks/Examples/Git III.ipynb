{
 "cells": [
  {
   "cell_type": "markdown",
   "metadata": {},
   "source": [
    "# Git III"
   ]
  },
  {
   "cell_type": "code",
   "execution_count": null,
   "metadata": {},
   "outputs": [],
   "source": [
    "if __name__ == \"__main__\":\n",
    "    %pip install -q wxyz-notebooks"
   ]
  },
  {
   "cell_type": "code",
   "execution_count": null,
   "metadata": {
    "jupyter": {
     "source_hidden": true
    }
   },
   "outputs": [],
   "source": [
    "import pandas as pd\n",
    "import ipywidgets as W, traitlets as T, IPython\n",
    "from wxyz.datagrid import DataGrid\n",
    "from wxyz.json_schema_form import JSONSchemaForm\n",
    "from wxyz.dvcs import Git, HeadPicker, Committer, TimeTraveler, HeadStatus"
   ]
  },
  {
   "cell_type": "markdown",
   "metadata": {},
   "source": [
    "A consistent schema helps keep things working well."
   ]
  },
  {
   "cell_type": "code",
   "execution_count": null,
   "metadata": {
    "jupyter": {
     "source_hidden": true
    }
   },
   "outputs": [],
   "source": [
    "todo_schema = dict(\n",
    "    title=\"Todo List\",\n",
    "    type=\"object\",\n",
    "    properties=dict(\n",
    "        tasks=dict(\n",
    "            default=[],\n",
    "            type=\"array\",\n",
    "            items=dict(\n",
    "                type=\"object\",\n",
    "                required=[\"task\"],\n",
    "                properties=dict(\n",
    "                    task=dict(\n",
    "                        title=\"Task\",\n",
    "                        type=\"string\"\n",
    "                    ),\n",
    "                    done=dict(\n",
    "                        title=\"Done?\",\n",
    "                        type=\"boolean\",\n",
    "                        default=False\n",
    "                    )\n",
    "                )\n",
    "            )        \n",
    "        )\n",
    "    )\n",
    ")"
   ]
  },
  {
   "cell_type": "code",
   "execution_count": null,
   "metadata": {
    "jupyter": {
     "source_hidden": true
    }
   },
   "outputs": [],
   "source": [
    "def make_a_git_datagrid_example(df=None, schema=None, value=None, record_path=None, work_dir=\"_git_iii_grid_repo_\"):\n",
    "    schema = schema or todo_schema\n",
    "    value = value or dict(tasks=[])\n",
    "    record_path = record_path or \"tasks\"\n",
    "    form = JSONSchemaForm(schema=schema, value=value)\n",
    "    grid = DataGrid(layout=dict(height=\"300px\", flex=\"1\"))\n",
    "    T.dlink((form, \"value\"), (grid, \"value\"), lambda rjsf: pd.json_normalize(rjsf, record_path=record_path))\n",
    "    T.dlink((grid, \"value\"), (form, \"value\"), lambda df: dict(tasks=df.to_dict(orient=\"records\")))\n",
    "    repo = Git(work_dir)\n",
    "    repo.track(tracked_widget=form, tracked_traits=[\"value\"], path=\"form.yaml\")\n",
    "    repo.track(tracked_widget=grid, tracked_traits=[\"value\"], path=\"df.json\")\n",
    "    status = HeadStatus(repo=repo)\n",
    "    head = HeadPicker(repo=repo)\n",
    "    timetravel = TimeTraveler(repo=repo)\n",
    "    committer = Committer(repo=repo)\n",
    "    box = W.VBox() \n",
    "    box.children = [\n",
    "        W.HBox([\n",
    "            form,\n",
    "            grid,\n",
    "            W.VBox([head, committer]),\n",
    "        ]),\n",
    "        status,\n",
    "        timetravel, \n",
    "    ]\n",
    "    box._dom_classes += (\"jp-wxyz-dvcs-playground-box\",)\n",
    "    return box, repo"
   ]
  },
  {
   "cell_type": "code",
   "execution_count": null,
   "metadata": {},
   "outputs": [],
   "source": [
    "if __name__ == \"__main__\":\n",
    "    box, repo = make_a_git_datagrid_example()\n",
    "    IPython.display.display(box)"
   ]
  },
  {
   "cell_type": "code",
   "execution_count": null,
   "metadata": {
    "jupyter": {
     "source_hidden": true
    }
   },
   "outputs": [],
   "source": [
    "if __name__ == \"__main__\":\n",
    "    with __import__(\"importnb\").Notebook():\n",
    "        from wxyz.notebooks import Utils\n",
    "        Utils.maybe_log_widget_counts()"
   ]
  }
 ],
 "metadata": {
  "kernelspec": {
   "display_name": "Python 3 (ipykernel)",
   "language": "python",
   "name": "python3"
  },
  "language_info": {
   "codemirror_mode": {
    "name": "ipython",
    "version": 3
   },
   "file_extension": ".py",
   "mimetype": "text/x-python",
   "name": "python",
   "nbconvert_exporter": "python",
   "pygments_lexer": "ipython3",
   "version": "3.11.0"
  }
 },
 "nbformat": 4,
 "nbformat_minor": 4
}
