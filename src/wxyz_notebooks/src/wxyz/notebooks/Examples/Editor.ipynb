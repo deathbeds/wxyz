{
 "cells": [
  {
   "cell_type": "markdown",
   "metadata": {},
   "source": [
    "# Editor"
   ]
  },
  {
   "cell_type": "markdown",
   "metadata": {},
   "source": [
    "[CodeMirror](https://github.com/codemirror/codemirror) is the editor that powers the Jupyter stack. `wxyz.lab.Editor` provides much of the configurability/observability of the underlying editor."
   ]
  },
  {
   "cell_type": "code",
   "execution_count": null,
   "metadata": {},
   "outputs": [],
   "source": [
    "from wxyz.lab import Editor, EditorModeInfo, DockPop"
   ]
  },
  {
   "cell_type": "code",
   "execution_count": null,
   "metadata": {},
   "outputs": [],
   "source": [
    "import ipywidgets as W, traitlets as T, IPython as I, textwrap\n",
    "from yaml import safe_dump"
   ]
  },
  {
   "cell_type": "markdown",
   "metadata": {},
   "source": [
    "At its most basic, an `Editor` will only be large enough to contain its text."
   ]
  },
  {
   "cell_type": "code",
   "execution_count": null,
   "metadata": {},
   "outputs": [],
   "source": [
    "editor = Editor(value=\"hello: world\", layout=dict(height=\"100%\", width=\"100%\"), \n",
    "                config=dict(mode=\"yaml\", theme=\"vibrant-ink\"))\n",
    "W.HBox([editor], layout=dict(height=\"50px\"))"
   ]
  },
  {
   "cell_type": "code",
   "execution_count": null,
   "metadata": {},
   "outputs": [],
   "source": [
    "if __name__ == \"__main__\":\n",
    "    I.display.display(DockPop([editor], mode=\"split-right\"))"
   ]
  },
  {
   "cell_type": "markdown",
   "metadata": {},
   "source": [
    "## Modes\n",
    "\n",
    "JupyterLab makes all known (but not necessarily loaded) syntax _modes_. The `EditorModeInfo` widget makes this information available."
   ]
  },
  {
   "cell_type": "code",
   "execution_count": null,
   "metadata": {},
   "outputs": [],
   "source": [
    "mode_info = EditorModeInfo()\n",
    "mode = W.SelectionSlider(options=[\"ipython\"], description=\"mode\", rows=1)\n",
    "def mode_options(modes):\n",
    "    modes = modes or [{\"mime\": \"text/x-ipython\", \"mode\": \"ipython\"}]\n",
    "    return sorted(set(sum([[m.get(\"mime\"), m.get(\"mode\")] for m in modes], [])))\n",
    "\n",
    "def link_modes(*change):\n",
    "    editor.value += \"\\nmodes:\\n\" + textwrap.indent(safe_dump(mode_info.modes), \"  \")\n",
    "    T.dlink((mode_info, \"modes\"), (mode, \"options\"), mode_options)\n",
    "    T.link((editor.config, \"mode\"), (mode, \"value\"))\n",
    "mode_info.observe(link_modes, \"modes\")\n",
    "mode"
   ]
  },
  {
   "cell_type": "markdown",
   "metadata": {},
   "source": [
    "## Themes\n",
    "\n",
    "CodeMirror uses CSS-based _themes_. They aren't particularly discoverable at runtime, but they usually don't get _removed_."
   ]
  },
  {
   "cell_type": "code",
   "execution_count": null,
   "metadata": {},
   "outputs": [],
   "source": [
    "THEMES = (\n",
    "    \"3024-day 3024-night abcdef ambiance ambiance-mobile ayu-dark ayu-mirage base16-dark base16-light \"\n",
    "    \"bespin blackboard cobalt colorforth darcula dracula duotone-dark duotone-light default eclipse elegant \"\n",
    "    \"erlang-dark gruvbox-dark hopscotch icecoder idea isotope lesser-dark liquibyte lucario material \"\n",
    "    \"material-darker material-ocean material-palenight mbo mdn-like midnight monokai moxer neat neo night \"\n",
    "    \"nord oceanic-next panda-syntax paraiso-dark paraiso-light pastel-on-dark railscasts rubyblue seti \"\n",
    "    \"shadowfox solarized ssms the-matrix tomorrow-night-bright tomorrow-night-eighties ttcn twilight \"\n",
    "    \"vibrant-ink xq-dark xq-light yeti yonce zenburn\"\n",
    ")\n",
    "editor.value += \"\\n\" + f\"themes: {THEMES}\"\n",
    "theme = W.SelectionSlider(options=THEMES.split(), description=\"theme\")\n",
    "T.link((editor.config, \"theme\"), (theme, \"value\"))\n",
    "theme"
   ]
  },
  {
   "cell_type": "markdown",
   "metadata": {},
   "source": [
    "## Scrolling\n",
    "The top-left position of the editor is readable and writeable from `scroll_x` and `scroll_y`. These are, unfortunately, in _pixels_, not _characters_, as other settings like `lineWrapping`"
   ]
  },
  {
   "cell_type": "code",
   "execution_count": null,
   "metadata": {},
   "outputs": [],
   "source": [
    "scroll_x = W.IntSlider(description=\"x\", max=2000); W.jslink((scroll_x, \"value\"), (editor, \"scroll_x\"))\n",
    "scroll_y = W.IntSlider(description=\"y\", max=2000); W.jslink((scroll_y, \"value\"), (editor, \"scroll_y\"))\n",
    "wrap = W.Checkbox(description=\"lineWrapping\"); W.jslink((wrap, \"value\"), (editor.config, \"lineWrapping\"));"
   ]
  },
  {
   "cell_type": "code",
   "execution_count": null,
   "metadata": {},
   "outputs": [],
   "source": [
    "if __name__ == \"__main__\":\n",
    "    I.display.display(scroll_x, scroll_y, wrap)"
   ]
  },
  {
   "cell_type": "markdown",
   "metadata": {},
   "source": [
    "Complicating matters even further are inline widgets, like code folding."
   ]
  },
  {
   "cell_type": "code",
   "execution_count": null,
   "metadata": {},
   "outputs": [],
   "source": [
    "fold = W.Checkbox(description=\"foldGutter\"); T.link((fold, \"value\"), (editor.config, \"foldGutter\"))\n",
    "line_numbers = W.Checkbox(description=\"lineNumbers\"); T.link((line_numbers, \"value\"), (editor.config, \"lineNumbers\"))\n",
    "gutters = W.SelectMultiple(\n",
    "    options=[\"CodeMirror-linenumbers\", \"CodeMirror-foldgutter\"], \n",
    "    description=\"gutters\"\n",
    "); T.link((gutters, \"value\"), (editor.config, \"gutters\"));"
   ]
  },
  {
   "cell_type": "code",
   "execution_count": null,
   "metadata": {},
   "outputs": [],
   "source": [
    "if __name__ == \"__main__\":\n",
    "    I.display.display(line_numbers, fold, gutters) "
   ]
  },
  {
   "cell_type": "markdown",
   "metadata": {},
   "source": [
    "## The App"
   ]
  },
  {
   "cell_type": "code",
   "execution_count": null,
   "metadata": {},
   "outputs": [],
   "source": [
    "editor.layout.max_width = \"70vw\"\n",
    "app = W.HBox(\n",
    "    [\n",
    "        W.VBox([mode, theme, wrap, scroll_x, scroll_y, line_numbers, fold, gutters], \n",
    "               layout=dict(min_width=\"300px\")), \n",
    "        editor\n",
    "    ], \n",
    "    layout=dict(width=\"100%\", height=\"600px\", display=\"flex\", max_height=\"100%\")\n",
    ")"
   ]
  },
  {
   "cell_type": "code",
   "execution_count": null,
   "metadata": {},
   "outputs": [],
   "source": [
    "if __name__ == \"__main__\":\n",
    "    I.display.display(app)"
   ]
  },
  {
   "cell_type": "code",
   "execution_count": null,
   "metadata": {
    "jupyter": {
     "source_hidden": true
    }
   },
   "outputs": [],
   "source": [
    "if __name__ == \"__main__\":\n",
    "    with __import__(\"importnb\").Notebook():\n",
    "        from wxyz.notebooks import Utils\n",
    "        Utils.maybe_log_widget_counts()"
   ]
  }
 ],
 "metadata": {
  "kernelspec": {
   "display_name": "Python 3 (ipykernel)",
   "language": "python",
   "name": "python3"
  },
  "language_info": {
   "codemirror_mode": {
    "name": "ipython",
    "version": 3
   },
   "file_extension": ".py",
   "mimetype": "text/x-python",
   "name": "python",
   "nbconvert_exporter": "python",
   "pygments_lexer": "ipython3",
   "version": "3.11.0"
  }
 },
 "nbformat": 4,
 "nbformat_minor": 4
}
