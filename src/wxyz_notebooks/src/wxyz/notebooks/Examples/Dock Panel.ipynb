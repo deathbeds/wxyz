{
 "cells": [
  {
   "cell_type": "markdown",
   "metadata": {},
   "source": [
    "# Dock Panel\n",
    "The Phosphor `DockPanel` is the core of JupyterLab. An `wxyz` `DockBox` exposes _some_ of the power of the `DockPanel`, but has some interesting side-effects in how it interacts with the main Application."
   ]
  },
  {
   "cell_type": "code",
   "execution_count": null,
   "metadata": {},
   "outputs": [],
   "source": [
    "if __name__ == \"__main__\":\n",
    "    %pip install -q wxyz-notebooks"
   ]
  },
  {
   "cell_type": "code",
   "execution_count": null,
   "metadata": {},
   "outputs": [],
   "source": [
    "import ipywidgets as W\n",
    "import traitlets as T\n",
    "from wxyz.lab import DockBox, DockPop"
   ]
  },
  {
   "cell_type": "markdown",
   "metadata": {},
   "source": [
    "Emoji are fun."
   ]
  },
  {
   "cell_type": "code",
   "execution_count": null,
   "metadata": {},
   "outputs": [],
   "source": [
    "emoji = [chr(128512 + i) for i in range(80)]\n",
    "if __name__ == \"__main__\":\n",
    "    print(\" \".join(emoji))"
   ]
  },
  {
   "cell_type": "code",
   "execution_count": null,
   "metadata": {},
   "outputs": [],
   "source": [
    "sliders = [\n",
    "    W.FloatSlider(72 + i, min=1, max=len(emoji) - 1, description=e, orientation=\"vertical\")\n",
    "    for i, e in enumerate(emoji[72:75])\n",
    "]"
   ]
  },
  {
   "cell_type": "code",
   "execution_count": null,
   "metadata": {},
   "outputs": [],
   "source": [
    "def make_layout(*sizes, orientation=\"horizontal\"):\n",
    "    return dict(\n",
    "        type=\"split-area\",\n",
    "        orientation=orientation,\n",
    "        children=[\n",
    "            {\"type\": \"tab-area\", \"widgets\": [i], \"currentIndex\": 0} \n",
    "            for i, x in enumerate(sizes)\n",
    "        ],\n",
    "        sizes=[x for x in sizes]\n",
    "    )"
   ]
  },
  {
   "cell_type": "code",
   "execution_count": null,
   "metadata": {},
   "outputs": [],
   "source": [
    "resizable_dock = DockBox(sliders, layout=dict(height=\"60vh\"), dock_layout=make_layout(*[x.value for x in sliders]))\n",
    "resizable_dock"
   ]
  },
  {
   "cell_type": "code",
   "execution_count": null,
   "metadata": {},
   "outputs": [],
   "source": [
    "def emojisize():\n",
    "    resizable_dock.dock_layout = make_layout(*[x.value for x in sliders])\n",
    "    resizable_dock.tab_size = f\"{sliders[0].value}px\"\n",
    "    resizable_dock.border_size = f\"{(sliders[1].value - 20) / 40.0}px\"\n",
    "    resizable_dock.hide_tabs = sliders[2].value < 40\n",
    "    for i, x in enumerate(sliders):\n",
    "        x.description = emoji[int(x.value)]"
   ]
  },
  {
   "cell_type": "code",
   "execution_count": null,
   "metadata": {},
   "outputs": [],
   "source": [
    "[f.observe(lambda *x, **y: emojisize()) for f in sliders];"
   ]
  },
  {
   "cell_type": "markdown",
   "metadata": {},
   "source": [
    "## DockPop\n",
    "A DockPop is a \"box\" that will push a widget right into JupyterLab main area `DockPanel`. They're pretty much unmanaged after going to the dock, so the `children` value is pretty much append-only."
   ]
  },
  {
   "cell_type": "code",
   "execution_count": null,
   "metadata": {},
   "outputs": [],
   "source": [
    "pop = DockPop()\n",
    "btn_name = W.Text(description=\"New Slider\", placeholder=\"Slider Name\")\n",
    "btn = W.Button(description=\"Make Slider\")\n",
    "mode = W.RadioButtons(description=\"Mode\", options=\"\"\"\n",
    "tab-after\n",
    "tab-before\n",
    "split-top\n",
    "split-left\n",
    "split-right\n",
    "split-bottom\n",
    "\"\"\".strip().split(\"\\n\"))\n",
    "@btn.on_click\n",
    "def click(*args, **kwargs):\n",
    "    pop.children = pop.children + (W.FloatSlider(description=btn_name.value or \"Untitled Slider\"),)\n",
    "T.link((pop, \"mode\"), (mode, \"value\"))\n",
    "make_a_slider = W.HBox([btn_name, mode, btn, pop])\n",
    "make_a_slider"
   ]
  },
  {
   "cell_type": "code",
   "execution_count": null,
   "metadata": {
    "jupyter": {
     "source_hidden": true
    }
   },
   "outputs": [],
   "source": [
    "if __name__ == \"__main__\":\n",
    "    with __import__(\"importnb\").Notebook():\n",
    "        from wxyz.notebooks import Utils\n",
    "        Utils.maybe_log_widget_counts()"
   ]
  }
 ],
 "metadata": {
  "kernelspec": {
   "display_name": "Python 3 (ipykernel)",
   "language": "python",
   "name": "python3"
  },
  "language_info": {
   "codemirror_mode": {
    "name": "ipython",
    "version": 3
   },
   "file_extension": ".py",
   "mimetype": "text/x-python",
   "name": "python",
   "nbconvert_exporter": "python",
   "pygments_lexer": "ipython3",
   "version": "3.11.0"
  }
 },
 "nbformat": 4,
 "nbformat_minor": 4
}
