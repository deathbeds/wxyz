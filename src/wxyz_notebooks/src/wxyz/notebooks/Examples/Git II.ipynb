{
 "cells": [
  {
   "cell_type": "markdown",
   "metadata": {},
   "source": [
    "# Git II\n",
    "\n",
    "`Git` widgets can _fetch_ and _push_ to any number of `Remote` instances allowing for interesting, persistent workflows. This example shows using two local repositories that know about each other."
   ]
  },
  {
   "cell_type": "code",
   "execution_count": null,
   "metadata": {},
   "outputs": [],
   "source": [
    "if __name__ == \"__main__\":\n",
    "    %pip install -q wxyz-notebooks"
   ]
  },
  {
   "cell_type": "code",
   "execution_count": null,
   "metadata": {
    "jupyter": {
     "source_hidden": true
    }
   },
   "outputs": [],
   "source": [
    "import ipywidgets as W, traitlets as T, IPython\n",
    "from wxyz.dvcs import Remoter\n",
    "import importnb"
   ]
  },
  {
   "cell_type": "code",
   "execution_count": null,
   "metadata": {
    "jupyter": {
     "source_hidden": true
    }
   },
   "outputs": [],
   "source": [
    "with importnb.Notebook():\n",
    "    from wxyz.notebooks.Examples.Git_I import make_a_git_playground"
   ]
  },
  {
   "cell_type": "code",
   "execution_count": null,
   "metadata": {
    "jupyter": {
     "source_hidden": true
    }
   },
   "outputs": [],
   "source": [
    "def make_a_two_repo_git_playground():\n",
    "    pg1, repo1 = make_a_git_playground(work_dir=\"_git_ii_one_of_two_repo_\")\n",
    "    pg2, repo2 = make_a_git_playground(work_dir=\"_git_ii_two_of_two_repo_\")\n",
    "    rm1 = Remoter(repo=repo1)\n",
    "    rm2 = Remoter(repo=repo2)\n",
    "    repo1.add_remote(\"repo2\", repo2.url)\n",
    "    repo2.add_remote(\"repo1\", repo1.url)\n",
    "    pg = W.HBox([\n",
    "        W.VBox([W.HTML(\"<h2>Repo 1</h2><hr/>\"), pg1, rm1], layout=dict(flex=\"1\")),\n",
    "        W.VBox([W.HTML(\"<h2>Repo 2</h2><hr/>\"), pg2, rm2], layout=dict(flex=\"1\"))\n",
    "    ], layout=dict(width=\"100%\", display=\"flex\"))\n",
    "    \n",
    "    return pg, [repo1, repo2]"
   ]
  },
  {
   "cell_type": "code",
   "execution_count": null,
   "metadata": {},
   "outputs": [],
   "source": [
    "if __name__ == \"__main__\":\n",
    "    # this is bad, should be replaced\n",
    "    pg, repos = make_a_two_repo_git_playground()\n",
    "    display(pg)"
   ]
  },
  {
   "cell_type": "code",
   "execution_count": null,
   "metadata": {
    "jupyter": {
     "source_hidden": true
    }
   },
   "outputs": [],
   "source": [
    "if __name__ == \"__main__\":\n",
    "    with __import__(\"importnb\").Notebook():\n",
    "        from wxyz.notebooks import Utils\n",
    "        Utils.maybe_log_widget_counts()"
   ]
  }
 ],
 "metadata": {
  "kernelspec": {
   "display_name": "Python 3 (ipykernel)",
   "language": "python",
   "name": "python3"
  },
  "language_info": {
   "codemirror_mode": {
    "name": "ipython",
    "version": 3
   },
   "file_extension": ".py",
   "mimetype": "text/x-python",
   "name": "python",
   "nbconvert_exporter": "python",
   "pygments_lexer": "ipython3",
   "version": "3.11.0"
  }
 },
 "nbformat": 4,
 "nbformat_minor": 4
}
