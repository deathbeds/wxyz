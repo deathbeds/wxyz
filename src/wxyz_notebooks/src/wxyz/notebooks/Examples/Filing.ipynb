{
 "cells": [
  {
   "cell_type": "markdown",
   "metadata": {},
   "source": [
    "# FileBox\n",
    "\n",
    "The `FileBox` provides a Box-like interface to file objects.\n",
    "\n",
    "**NOTE**: The [upstream `ipywidgets.FileUpload`](https://ipywidgets.readthedocs.io/en/latest/examples/Widget%20List.html#File-Upload) should probably be used instead of this class, as it might have more integrations. "
   ]
  },
  {
   "cell_type": "code",
   "execution_count": null,
   "metadata": {},
   "outputs": [],
   "source": [
    "from wxyz.html import FileBox, File, JSONFile, TextFile"
   ]
  },
  {
   "cell_type": "code",
   "execution_count": null,
   "metadata": {},
   "outputs": [],
   "source": [
    "import pandas as pd, ipywidgets as W, IPython as I, IPython.display as D, traitlets as T\n",
    "from wxyz.core import UnJSON, JSON\n",
    "from wxyz.lab import DockBox, DockPop, Editor\n",
    "from pathlib import Path"
   ]
  },
  {
   "cell_type": "markdown",
   "metadata": {},
   "source": [
    "## It's a box"
   ]
  },
  {
   "cell_type": "code",
   "execution_count": null,
   "metadata": {},
   "outputs": [],
   "source": [
    "box = W.VBox()"
   ]
  },
  {
   "cell_type": "code",
   "execution_count": null,
   "metadata": {},
   "outputs": [],
   "source": [
    "if __name__ == \"__main__\":\n",
    "    D.display(DockPop([box], mode=\"split-right\"))"
   ]
  },
  {
   "cell_type": "code",
   "execution_count": null,
   "metadata": {},
   "outputs": [],
   "source": [
    "files = FileBox()\n",
    "box.children = [W.HTML(\"<h2>It uploads files</h2>\"), files]"
   ]
  },
  {
   "cell_type": "code",
   "execution_count": null,
   "metadata": {},
   "outputs": [],
   "source": [
    "if __name__ == \"__main__\":\n",
    "    D.display(files)"
   ]
  },
  {
   "cell_type": "markdown",
   "metadata": {},
   "source": [
    "# What we know about files"
   ]
  },
  {
   "cell_type": "code",
   "execution_count": null,
   "metadata": {},
   "outputs": [],
   "source": [
    "info = W.Output(layout=dict(width=\"100%\"))"
   ]
  },
  {
   "cell_type": "code",
   "execution_count": null,
   "metadata": {},
   "outputs": [],
   "source": [
    "def show(*_):\n",
    "    info.clear_output()\n",
    "    with info:\n",
    "        display(pd.DataFrame([\n",
    "            dict(\n",
    "                name=c.name, \n",
    "                size=c.size, \n",
    "                mime_type=c.mime_type, \n",
    "                last_modified=pd.to_datetime(c.last_modified, unit=\"ms\")\n",
    "            )\n",
    "            for c in files.children\n",
    "        ]).T)\n",
    "\n",
    "files.observe(show, \"children\")\n",
    "show()"
   ]
  },
  {
   "cell_type": "markdown",
   "metadata": {},
   "source": [
    "## Build an app"
   ]
  },
  {
   "cell_type": "code",
   "execution_count": null,
   "metadata": {},
   "outputs": [],
   "source": [
    "app = DockBox([info, files], layout=dict(height=\"60vh\"))\n",
    "files.description = \"File Upload\"\n",
    "info.description = \"File Stats\""
   ]
  },
  {
   "cell_type": "code",
   "execution_count": null,
   "metadata": {},
   "outputs": [],
   "source": [
    "box.children = [app]"
   ]
  },
  {
   "cell_type": "markdown",
   "metadata": {},
   "source": [
    "## File\n",
    "\n",
    "Unlike the upstream `FileUpload`, `FileBox` treats each file as an individual widget. They can be created kernel-side."
   ]
  },
  {
   "cell_type": "code",
   "execution_count": null,
   "metadata": {},
   "outputs": [],
   "source": [
    "name = \"Filing.ipynb\" if __name__ == \"__main__\" else __file__\n",
    "this_path = Path(name)\n",
    "this_bytes = this_path.read_bytes()\n",
    "this_stat = this_path.stat()\n",
    "a_file = File(\n",
    "    name=this_path.name, \n",
    "    value=this_bytes,\n",
    "    size=len(this_bytes),\n",
    "    mime_type=\"application/x-ipynb+json\",\n",
    "    last_modified=int(1e3 * this_stat.st_mtime)\n",
    ")"
   ]
  },
  {
   "cell_type": "code",
   "execution_count": null,
   "metadata": {},
   "outputs": [],
   "source": [
    "files.children = [a_file]"
   ]
  },
  {
   "cell_type": "markdown",
   "metadata": {},
   "source": [
    "## Proxy\n",
    "Proxy files allow for working with format-aware editing, such as the `JSONFile`."
   ]
  },
  {
   "cell_type": "code",
   "execution_count": null,
   "metadata": {},
   "outputs": [],
   "source": [
    "editor = Editor(layout=dict(height=\"100%\"), \n",
    "    config=dict(\n",
    "        mode=\"application/ld+json\", \n",
    "        theme=\"zenburn\", \n",
    "        foldGutter=True, \n",
    "        lineNumbers=True,\n",
    "        lineWrapping=True,\n",
    "        gutters=[\"CodeMirror-linenumbers\", \"CodeMirror-foldgutter\"],\n",
    "        readOnly=True,\n",
    "    ))\n",
    "to_json = JSON()\n",
    "un_json = UnJSON(indent=2)\n",
    "\n",
    "edit_links = {}\n",
    "\n",
    "def link_editor(*_):\n",
    "    a_file = files.children[0]\n",
    "    if Path(a_file.name).suffix in [\".json\", \".ipynb\", \".jsonld\"]:\n",
    "        a_json_proxy = a_file.proxy(JSONFile)\n",
    "        for linker, links in edit_links.items():\n",
    "            for link in links:\n",
    "                link.unlink()\n",
    "        [edit_links.pop(k) for k in list(edit_links)]\n",
    "        edit_links[a_json_proxy] = [\n",
    "            W.jsdlink((a_json_proxy, \"json\"), (un_json, \"source\")),\n",
    "            W.jsdlink((un_json, \"value\"), (editor, \"value\")),\n",
    "            W.jsdlink((a_json_proxy, \"name\"), (editor, \"description\")),\n",
    "        ]\n",
    "        a_file.observe(show, \"size\")\n",
    "files.observe(link_editor, \"children\")\n",
    "link_editor()\n",
    "files.accept = [\"*.json\", \"*.ipynb\", \"*.jsonld\"]\n",
    "files.description = \"JSON (and Friends) Viewer\""
   ]
  },
  {
   "cell_type": "code",
   "execution_count": null,
   "metadata": {},
   "outputs": [],
   "source": [
    "app.children = [info, files, editor]\n",
    "app.dock_layout = {'type': 'split-area',\n",
    " 'orientation': 'horizontal',\n",
    " 'children': [{'type': 'split-area',\n",
    "   'orientation': 'vertical',\n",
    "   'children': [{'type': 'tab-area', 'widgets': [1], 'currentIndex': 0},\n",
    "    {'type': 'tab-area', 'widgets': [0], 'currentIndex': 0}],\n",
    "   'sizes': [0.5, 0.5]},\n",
    "  {'type': 'tab-area', 'widgets': [2], 'currentIndex': 0}],\n",
    " 'sizes': [0.4409, 0.559]}"
   ]
  },
  {
   "cell_type": "code",
   "execution_count": null,
   "metadata": {
    "jupyter": {
     "source_hidden": true
    }
   },
   "outputs": [],
   "source": [
    "if __name__ == \"__main__\":\n",
    "    with __import__(\"importnb\").Notebook():\n",
    "        from wxyz.notebooks import Utils\n",
    "        Utils.maybe_log_widget_counts()"
   ]
  }
 ],
 "metadata": {
  "kernelspec": {
   "display_name": "Python 3 (ipykernel)",
   "language": "python",
   "name": "python3"
  },
  "language_info": {
   "codemirror_mode": {
    "name": "ipython",
    "version": 3
   },
   "file_extension": ".py",
   "mimetype": "text/x-python",
   "name": "python",
   "nbconvert_exporter": "python",
   "pygments_lexer": "ipython3",
   "version": "3.11.0"
  },
  "toc-autonumbering": true
 },
 "nbformat": 4,
 "nbformat_minor": 4
}
