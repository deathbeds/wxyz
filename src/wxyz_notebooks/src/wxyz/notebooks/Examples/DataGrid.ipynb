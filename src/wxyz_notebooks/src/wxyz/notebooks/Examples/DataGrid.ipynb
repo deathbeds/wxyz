{
 "cells": [
  {
   "cell_type": "markdown",
   "metadata": {},
   "source": [
    "# DataGrid\n",
    "\n",
    "Powered by [Lumino DataGrid](https://github.com/jupyterlab/lumino/tree/master/packages/datagrid), the `DataGrid` "
   ]
  },
  {
   "cell_type": "code",
   "execution_count": null,
   "metadata": {},
   "outputs": [],
   "source": [
    "if __name__ == \"__main__\":\n",
    "    %pip install -q wxyz-notebooks"
   ]
  },
  {
   "cell_type": "code",
   "execution_count": 1,
   "metadata": {},
   "outputs": [],
   "source": [
    "import pandas as pd, numpy as np, traitlets as T, ipywidgets as W\n",
    "from wxyz.datagrid import DataGrid"
   ]
  },
  {
   "cell_type": "code",
   "execution_count": 4,
   "metadata": {},
   "outputs": [],
   "source": [
    "def make_grid(GridClass=DataGrid, df=None, container=W.VBox):\n",
    "    dg = GridClass(layout=dict(height=\"60vh\", flex=\"1\"))\n",
    "    rando = None\n",
    "    if df is not None:\n",
    "        dg.value = df\n",
    "    else:\n",
    "        with W.Output():\n",
    "            @W.interact\n",
    "            def rando(rows=(1, 1000), cols=(1, 1000)):\n",
    "                dg.value = np.random.rand(rows, cols)\n",
    "    pg = container([*([rando.widget] if rando else []), dg], layout=dict(flex=\"1\"))\n",
    "    pg.dg = dg\n",
    "    return pg"
   ]
  },
  {
   "cell_type": "code",
   "execution_count": 5,
   "metadata": {},
   "outputs": [
    {
     "data": {
      "application/vnd.jupyter.widget-view+json": {
       "model_id": "9c649a4cf3c94518bd5926283dcc8d1a",
       "version_major": 2,
       "version_minor": 0
      },
      "text/plain": [
       "VBox(children=(interactive(children=(IntSlider(value=500, description='rows', max=1000, min=1), IntSlider(valu…"
      ]
     },
     "metadata": {},
     "output_type": "display_data"
    }
   ],
   "source": [
    "if __name__ == \"__main__\":\n",
    "    display(make_grid())"
   ]
  },
  {
   "cell_type": "code",
   "execution_count": null,
   "metadata": {},
   "outputs": [],
   "source": [
    "if __name__ == \"__main__\":\n",
    "    with __import__(\"importnb\").Notebook():\n",
    "        from wxyz.notebooks import Utils\n",
    "        Utils.maybe_log_widget_counts()"
   ]
  }
 ],
 "metadata": {
  "kernelspec": {
   "display_name": "Python 3 (ipykernel)",
   "language": "python",
   "name": "python3"
  },
  "language_info": {
   "codemirror_mode": {
    "name": "ipython",
    "version": 3
   },
   "file_extension": ".py",
   "mimetype": "text/x-python",
   "name": "python",
   "nbconvert_exporter": "python",
   "pygments_lexer": "ipython3",
   "version": "3.11.0"
  }
 },
 "nbformat": 4,
 "nbformat_minor": 4
}
