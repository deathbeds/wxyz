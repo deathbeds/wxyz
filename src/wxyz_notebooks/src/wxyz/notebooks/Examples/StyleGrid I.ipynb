{
 "cells": [
  {
   "cell_type": "markdown",
   "metadata": {},
   "source": [
    "# StyleGrid I\n",
    "\n",
    "Extending the [DataGrid](./DataGrid.ipynb), `StyleGrid` adds support for top-level styles of the rendered grid. Advanced customization is possible with [custom renderers](./StyleGrid%20II.ipynb)."
   ]
  },
  {
   "cell_type": "code",
   "execution_count": null,
   "metadata": {},
   "outputs": [],
   "source": [
    "if __name__ == \"__main__\":\n",
    "    %pip install -q wxyz-notebooks"
   ]
  },
  {
   "cell_type": "code",
   "execution_count": null,
   "metadata": {},
   "outputs": [],
   "source": [
    "from wxyz.datagrid import StyleGrid, GridStyle"
   ]
  },
  {
   "cell_type": "code",
   "execution_count": null,
   "metadata": {},
   "outputs": [],
   "source": [
    "import pandas as pd, traitlets as T, ipywidgets as W, IPython.display as D\n",
    "import importnb\n",
    "from wxyz.html import AlphaColorPicker \n",
    "from wxyz.lab import DockBox, DockPop"
   ]
  },
  {
   "cell_type": "code",
   "execution_count": null,
   "metadata": {},
   "outputs": [],
   "source": [
    "with importnb.Notebook():\n",
    "    try:\n",
    "        from DataGrid import make_grid\n",
    "    except:\n",
    "        from .DataGrid import make_grid"
   ]
  },
  {
   "cell_type": "markdown",
   "metadata": {},
   "source": [
    "## GridStyle"
   ]
  },
  {
   "cell_type": "code",
   "execution_count": null,
   "metadata": {},
   "outputs": [],
   "source": [
    "def make_a_grid_styler(style=None, grid=None, pattern='color', default_color=\"rgba(0,0,0,0.0)\"):\n",
    "    special = ['columnBackgroundColor', 'rowBackgroundColor']\n",
    "\n",
    "    style = style or GridStyle()\n",
    "    colors = [\n",
    "        AlphaColorPicker(description=n, value=default_color) \n",
    "        for n in style.trait_names() \n",
    "        if pattern in n.lower()\n",
    "        and n not in special\n",
    "    ]\n",
    "    \n",
    "    box = W.VBox(colors, _dom_classes=[\"my-style\"], layout=dict(display=\"flex\", flex_flow=\"row wrap\"))\n",
    "    box.children += (W.HTML(\"\"\"<style>\n",
    "        .my-style .widget-colorpicker {\n",
    "            display: flex;\n",
    "            flex-direction: column;\n",
    "            height: 4em;\n",
    "        }\n",
    "        .my-style .widget-colorpicker label {\n",
    "            display: flex;\n",
    "            width: 100%;\n",
    "        }\n",
    "    </style>\"\"\"),)\n",
    "    \n",
    "    if grid:\n",
    "        [T.dlink((c, 'value'), (grid.grid_style, c.description)) for c in colors]\n",
    "    \n",
    "    return box"
   ]
  },
  {
   "cell_type": "code",
   "execution_count": null,
   "metadata": {},
   "outputs": [],
   "source": [
    "if __name__ == \"__main__\":\n",
    "    styler = make_a_grid_styler()\n",
    "    D.display(styler)"
   ]
  },
  {
   "cell_type": "markdown",
   "metadata": {},
   "source": [
    "## Make a Grid"
   ]
  },
  {
   "cell_type": "code",
   "execution_count": null,
   "metadata": {},
   "outputs": [],
   "source": [
    "_default_container = lambda *args, **kwargs: [\n",
    "    kwargs.update(layout=dict(height=\"60vh\"), dock_layout={'type': 'split-area',\n",
    " 'orientation': 'horizontal',\n",
    " 'children': [{'type': 'tab-area', 'widgets': [0], 'currentIndex': 0},\n",
    "  {'type': 'tab-area', 'widgets': [1], 'currentIndex': 0}],\n",
    " 'sizes': [8, 3]}),\n",
    "    DockBox(*args, **kwargs)\n",
    "][-1]\n",
    "\n",
    "def make_style_grid_i(GridClass=StyleGrid, df=None, container=None):\n",
    "    container = container or _default_container\n",
    "    pg = make_grid(GridClass, df=df)\n",
    "    dg = pg.dg\n",
    "    st = make_a_grid_styler(grid=dg)\n",
    "\n",
    "    rs = W.IntSlider(description='row height')\n",
    "    cs = W.IntSlider(description='column width')\n",
    "    hv = W.SelectionSlider(description=\"headers?\", default_value=\"all\", options=[\"all\", \"row\", \"column\", \"none\"])\n",
    "    hr = W.HTML()\n",
    "    hc = W.HTML()\n",
    "\n",
    "    W.jslink((dg, \"row_size\"), (rs, \"value\"))\n",
    "    W.jslink((dg, \"column_size\"), (cs, \"value\"))\n",
    "    W.link((dg, \"header_visibility\"), (hv, \"value\"))\n",
    "    grid_playground = container([\n",
    "        W.VBox([\n",
    "            pg.children[1], \n",
    "        ], layout=dict(flex=\"1\")),\n",
    "        W.VBox([*pg.children[0].children, hr, hc, cs, rs, hv, *st.children]), \n",
    "    ])\n",
    "    grid_playground.dg = dg\n",
    "    return grid_playground"
   ]
  },
  {
   "cell_type": "code",
   "execution_count": null,
   "metadata": {},
   "outputs": [],
   "source": [
    "if __name__ == \"__main__\":\n",
    "    pg = make_style_grid_i()\n",
    "    display(pg)"
   ]
  },
  {
   "cell_type": "markdown",
   "metadata": {},
   "source": [
    "## Make a color scheme"
   ]
  },
  {
   "cell_type": "code",
   "execution_count": null,
   "metadata": {},
   "outputs": [],
   "source": [
    "def make_a_color_schemer():\n",
    "    o = dict(orientation=\"vertical\")\n",
    "    steps = W.IntSlider(value=5, min=0, max=100, description=\"steps\", **o)\n",
    "    colors = r, g, b, R, G, B = [W.IntSlider(value=0, min=0, max=255, description=d, **o) for d in \"rgbRGB\"]\n",
    "    alphas = a, A = [W.FloatSlider(value=0, description=d, min=0.0, max=1.0, **o) for d in \"aA\"]\n",
    "    sliders = steps, *colors, *alphas\n",
    "    h = W.HTML()\n",
    "    box = W.HBox([*sliders])\n",
    "    box.add_traits(value=T.Tuple())\n",
    "    T.dlink((box, \"value\"), (h, \"value\"), str)\n",
    "    \n",
    "    def _update(*_):\n",
    "        s = steps.value\n",
    "        if s == 0:\n",
    "            box.value = [\n",
    "            ]\n",
    "            return\n",
    "        \n",
    "        value = [\n",
    "            [r.value, g.value, b.value, a.value]\n",
    "        ]\n",
    "                \n",
    "        if s > 2:\n",
    "            for i in range(1, s):\n",
    "                value += [[\n",
    "                    int(r.value + ((R.value - r.value) / s) * i),\n",
    "                    int(g.value + ((G.value - g.value) / s) * i),\n",
    "                    int(b.value + ((B.value - b.value) / s) * i),\n",
    "                    a.value + ((A.value - a.value) / s) * i,\n",
    "                ]]\n",
    "        \n",
    "        if steps.value > 1:\n",
    "            value += [\n",
    "                [R.value, G.value, B.value, A.value]\n",
    "            ]\n",
    "\n",
    "        box.value = [\n",
    "            \"rgba({}, {}, {}, {})\".format(*v) for v in value\n",
    "        ]\n",
    "        \n",
    "    setattr(box, \"_update\", _update)\n",
    "    \n",
    "    [s.observe(_update) for s in sliders]\n",
    "\n",
    "    return box"
   ]
  },
  {
   "cell_type": "code",
   "execution_count": null,
   "metadata": {},
   "outputs": [],
   "source": [
    "def make_style_grid_i_remix(GridClass=StyleGrid, df=None, container=None):\n",
    "    pg = make_style_grid_i(GridClass, df, container)\n",
    "    row_background_color = make_a_color_schemer()\n",
    "    column_background_color = make_a_color_schemer()\n",
    "    T.dlink((row_background_color, \"value\"), (pg.dg.grid_style, \"rowBackgroundColor\"))\n",
    "    T.dlink((column_background_color, \"value\"), (pg.dg.grid_style, \"columnBackgroundColor\"))\n",
    "    dynamics = W.HBox([row_background_color, column_background_color])\n",
    "    pg.children += dynamics,\n",
    "    dynamics.description = \"row and column color\"\n",
    "    pg.dock_layout = {'type': 'split-area',\n",
    "     'orientation': 'horizontal',\n",
    "     'children': [{'type': 'tab-area', 'widgets': [0], 'currentIndex': 0},\n",
    "      {'type': 'split-area',\n",
    "       'orientation': 'vertical',\n",
    "       'children': [{'type': 'tab-area', 'widgets': [1], 'currentIndex': 0},\n",
    "        {'type': 'tab-area', 'widgets': [2], 'currentIndex': 0}],\n",
    "       'sizes': [1, 1]}],\n",
    "     'sizes': [6, 4]}\n",
    "    row_background_color._update()\n",
    "    column_background_color._update()\n",
    "    return pg"
   ]
  },
  {
   "cell_type": "code",
   "execution_count": null,
   "metadata": {},
   "outputs": [],
   "source": [
    "if __name__ == \"__main__\":\n",
    "    pg2 = make_style_grid_i_remix()\n",
    "    D.display(pg2)"
   ]
  },
  {
   "cell_type": "code",
   "execution_count": null,
   "metadata": {
    "jupyter": {
     "source_hidden": true
    }
   },
   "outputs": [],
   "source": [
    "if __name__ == \"__main__\":\n",
    "    with __import__(\"importnb\").Notebook():\n",
    "        from wxyz.notebooks import Utils\n",
    "        Utils.maybe_log_widget_counts()"
   ]
  }
 ],
 "metadata": {
  "kernelspec": {
   "display_name": "Python 3 (ipykernel)",
   "language": "python",
   "name": "python3"
  },
  "language_info": {
   "codemirror_mode": {
    "name": "ipython",
    "version": 3
   },
   "file_extension": ".py",
   "mimetype": "text/x-python",
   "name": "python",
   "nbconvert_exporter": "python",
   "pygments_lexer": "ipython3",
   "version": "3.11.0"
  }
 },
 "nbformat": 4,
 "nbformat_minor": 4
}
