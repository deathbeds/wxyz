{
 "cells": [
  {
   "cell_type": "markdown",
   "id": "1a6117ad-8e21-458b-a3b0-28cd1640ad19",
   "metadata": {},
   "source": [
    "# Markdown"
   ]
  },
  {
   "cell_type": "code",
   "execution_count": null,
   "id": "24d99356-a0bd-42e9-ae77-e6913f076151",
   "metadata": {},
   "outputs": [],
   "source": [
    "if __name__ == \"__main__\":\n",
    "    %pip install -q wxyz-notebooks"
   ]
  },
  {
   "cell_type": "code",
   "execution_count": null,
   "id": "5da79cec-e5de-4290-b297-c7ea1ad04030",
   "metadata": {},
   "outputs": [],
   "source": [
    "import ipywidgets as W, traitlets as T\n",
    "from wxyz.lab import Markdown"
   ]
  },
  {
   "cell_type": "code",
   "execution_count": null,
   "id": "b0188692-9186-42a3-8b21-8742608c24cc",
   "metadata": {},
   "outputs": [],
   "source": [
    "text = W.Textarea(description=\"markdown\", value=\"\"\"# markdown\"\"\", rows=10, columns=30)\n",
    "md = Markdown()\n",
    "html = W.HTML(_dom_classes=[\"jp-RenderedHTMLCommon\"])\n",
    "mode = W.SelectionSlider(options=[\"both\", \"client\", \"kernel\"], description=\"mode\", orientation=\"vertical\")\n",
    "T.dlink((mode, \"value\"), (md, \"mode\"))\n",
    "W.jsdlink((text, \"value\"), (md, \"source\"))\n",
    "W.jsdlink((md, \"value\"), (html, \"value\"))\n",
    "W.HBox([text, mode, html])"
   ]
  }
 ],
 "metadata": {
  "kernelspec": {
   "display_name": "Python 3 (ipykernel)",
   "language": "python",
   "name": "python3"
  },
  "language_info": {
   "codemirror_mode": {
    "name": "ipython",
    "version": 3
   },
   "file_extension": ".py",
   "mimetype": "text/x-python",
   "name": "python",
   "nbconvert_exporter": "python",
   "pygments_lexer": "ipython3",
   "version": "3.11.0"
  }
 },
 "nbformat": 4,
 "nbformat_minor": 5
}
