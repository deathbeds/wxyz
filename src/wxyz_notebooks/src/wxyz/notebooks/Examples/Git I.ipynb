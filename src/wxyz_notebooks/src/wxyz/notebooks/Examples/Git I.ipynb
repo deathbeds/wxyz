{
 "cells": [
  {
   "cell_type": "markdown",
   "metadata": {},
   "source": [
    "# Git I\n",
    "\n",
    "At its simplest, the `Git` widget provides save/restore of widget values."
   ]
  },
  {
   "cell_type": "code",
   "execution_count": null,
   "metadata": {},
   "outputs": [],
   "source": [
    "import ipywidgets as W, traitlets as T, IPython, pathlib, os\n",
    "from wxyz.dvcs import Git, HeadPicker, Committer, TimeTraveler, HeadStatus, Brancher"
   ]
  },
  {
   "cell_type": "code",
   "execution_count": null,
   "metadata": {},
   "outputs": [],
   "source": [
    "def make_a_git_playground(box=None, widget=None, traits=[\"value\"], work_dir=\"_git_i_simple_repo_\", work_file=\"test.json\"):\n",
    "    root = pathlib.Path(os.environ.get(\"WXYZ_TEST_WORK_DIR\", pathlib.Path.cwd()))\n",
    "    widget = widget or W.Textarea(\n",
    "        description=\"Tracked\",\n",
    "        placeholder=\"Text typed is tracked in git...\",\n",
    "        layout=dict(flex=\"1\"),\n",
    "        rows=5,\n",
    "        _dom_classes=[\"jp-wxyz-dvcs-playground-textarea\"]\n",
    "    )\n",
    "    repo = Git(str(root / work_dir))\n",
    "    repo.track(tracked_widget=widget, tracked_traits=traits, path=work_file,)\n",
    "\n",
    "    status = HeadStatus(repo=repo)\n",
    "    head = HeadPicker(repo=repo)\n",
    "    brancher = Brancher(repo=repo)\n",
    "    timetravel = TimeTraveler(repo=repo)\n",
    "    committer = Committer(repo=repo)\n",
    "    box = box or W.VBox() \n",
    "    box.children = [\n",
    "        W.HBox([widget, W.VBox([head, brancher, committer])]),\n",
    "        status,\n",
    "        timetravel, \n",
    "    ]\n",
    "    box._dom_classes += (\"jp-wxyz-dvcs-playground-box\",)\n",
    "    return box, repo"
   ]
  },
  {
   "cell_type": "code",
   "execution_count": null,
   "metadata": {},
   "outputs": [],
   "source": [
    "if __name__ == \"__main__\":\n",
    "    pg, repo = make_a_git_playground()\n",
    "    IPython.display.display(pg)"
   ]
  },
  {
   "cell_type": "code",
   "execution_count": null,
   "metadata": {},
   "outputs": [],
   "source": [
    "if __name__ == \"__main__\":\n",
    "    with __import__(\"importnb\").Notebook():\n",
    "        from wxyz.notebooks import Utils\n",
    "        Utils.maybe_log_widget_counts()"
   ]
  }
 ],
 "metadata": {
  "kernelspec": {
   "display_name": "Python 3 (ipykernel)",
   "language": "python",
   "name": "python3"
  },
  "language_info": {
   "codemirror_mode": {
    "name": "ipython",
    "version": 3
   },
   "file_extension": ".py",
   "mimetype": "text/x-python",
   "name": "python",
   "nbconvert_exporter": "python",
   "pygments_lexer": "ipython3",
   "version": "3.11.0"
  }
 },
 "nbformat": 4,
 "nbformat_minor": 4
}
