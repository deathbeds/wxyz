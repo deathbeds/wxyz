{
 "cells": [
  {
   "cell_type": "markdown",
   "metadata": {},
   "source": [
    "## Full Screen"
   ]
  },
  {
   "cell_type": "code",
   "execution_count": null,
   "metadata": {},
   "outputs": [],
   "source": [
    "if __name__ == \"__main__\":\n",
    "    %pip install -q wxyz-notebooks"
   ]
  },
  {
   "cell_type": "code",
   "execution_count": null,
   "metadata": {},
   "outputs": [],
   "source": [
    "import math\n",
    "import ipywidgets as W, traitlets as T\n",
    "from wxyz.html import Fullscreen\n",
    "from wxyz.lab import DockBox\n",
    "import random"
   ]
  },
  {
   "cell_type": "markdown",
   "metadata": {},
   "source": [
    "<kbd>Ctrl+Shift+Click</kbd>ing on a `Fullscreen` or any of its children will trigger fullscreen.\n",
    "\n",
    "<kbd>Esc</kbd> will exit full screen."
   ]
  },
  {
   "cell_type": "code",
   "execution_count": null,
   "metadata": {},
   "outputs": [],
   "source": [
    "sliders = [\n",
    "    W.FloatSlider(max=1.1, min=-1.1, step=0.001, orientation=\"vertical\", layout=dict(flex=\"1\", height=\"100%\")) \n",
    "    for i in range(20)\n",
    "]\n",
    "def make_tx(i):\n",
    "    def tx(t):\n",
    "        return math.sin(t + i)\n",
    "    return tx\n",
    "    \n",
    "[T.dlink((sliders[0], \"value\"), (s, \"value\"), make_tx(i))\n",
    " for i, s in enumerate(sliders[1:])]\n",
    "sine = Fullscreen(sliders, layout=dict(display=\"flex\"))\n",
    "sine"
   ]
  },
  {
   "cell_type": "markdown",
   "metadata": {},
   "source": [
    "`DockBox`es can't be inside `Fullscreen`s for some reason, but you can also <kbd>Ctrl+Shift+Click</kbd> somewhere."
   ]
  },
  {
   "cell_type": "code",
   "execution_count": null,
   "metadata": {},
   "outputs": [],
   "source": [
    "btn = W.Button(description=\"Tabs\")\n",
    "sliders = [W.FloatLogSlider(description=i) for i in \"abcdefg\"]\n",
    "dock = DockBox([btn] + sliders, layout={\"height\": \"40vh\"}, dock_layout = {'type': 'split-area',\n",
    "     'orientation': 'horizontal',\n",
    "     'children': [{'type': 'split-area',\n",
    "       'orientation': 'vertical',\n",
    "       'children': [{'type': 'tab-area', 'widgets': [4], 'currentIndex': 0},\n",
    "        {'type': 'tab-area', 'widgets': [2], 'currentIndex': 0},\n",
    "        {'type': 'tab-area', 'widgets': [1], 'currentIndex': 0},\n",
    "        {'type': 'tab-area', 'widgets': [3], 'currentIndex': 0}],\n",
    "       'sizes': [0.25, 0.25, 0.25, 0.25]},\n",
    "      {'type': 'split-area',\n",
    "       'orientation': 'vertical',\n",
    "       'children': [{'type': 'tab-area', 'widgets': [0], 'currentIndex': 0},\n",
    "        {'type': 'tab-area', 'widgets': [5], 'currentIndex': 0}],\n",
    "       'sizes': [0.5, 0.5]},\n",
    "      {'type': 'split-area',\n",
    "       'orientation': 'vertical',\n",
    "       'children': [{'type': 'tab-area', 'widgets': [6], 'currentIndex': 0},\n",
    "        {'type': 'tab-area', 'widgets': [7], 'currentIndex': 0}],\n",
    "       'sizes': [0.5, 0.5]}],\n",
    "     'sizes': [0.3, 0.3, 0.3]})\n",
    "\n",
    "[[T.dlink((dock, \"border_size\"), (s, \"value\"),  lambda x: float(x.replace('px', '') or '0')),\n",
    "  T.dlink((s, \"value\"), (dock, \"border_size\"), \"{}px\".format)]\n",
    " for s in sliders]\n",
    "def click(*args, **kwargs):\n",
    "    dock.hide_tabs = not dock.hide_tabs\n",
    "    dock.border_size = f\"{int(not dock.border_size)}px\"\n",
    "    dock.tab_size = None if dock.tab_size else \"0px\"\n",
    "btn.on_click(click)"
   ]
  },
  {
   "cell_type": "code",
   "execution_count": null,
   "metadata": {},
   "outputs": [],
   "source": [
    "dock"
   ]
  },
  {
   "cell_type": "code",
   "execution_count": null,
   "metadata": {
    "jupyter": {
     "source_hidden": true
    }
   },
   "outputs": [],
   "source": [
    "if __name__ == \"__main__\":\n",
    "    with __import__(\"importnb\").Notebook():\n",
    "        from wxyz.notebooks import Utils\n",
    "        Utils.maybe_log_widget_counts()"
   ]
  }
 ],
 "metadata": {
  "kernelspec": {
   "display_name": "Python 3 (ipykernel)",
   "language": "python",
   "name": "python3"
  },
  "language_info": {
   "codemirror_mode": {
    "name": "ipython",
    "version": 3
   },
   "file_extension": ".py",
   "mimetype": "text/x-python",
   "name": "python",
   "nbconvert_exporter": "python",
   "pygments_lexer": "ipython3",
   "version": "3.11.0"
  }
 },
 "nbformat": 4,
 "nbformat_minor": 4
}
