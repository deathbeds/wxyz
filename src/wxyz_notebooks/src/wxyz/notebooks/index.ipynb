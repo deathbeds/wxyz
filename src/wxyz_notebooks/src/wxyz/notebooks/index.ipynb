{
 "cells": [
  {
   "cell_type": "markdown",
   "metadata": {},
   "source": [
    "# WXYZ\n",
    "> _Experimental widgets. Probably don't expect them to keep working right now._\n",
    "\n",
    "Some examples of using `ipywidgets` and JupyterLab a little roughly. \n",
    "\n",
    "> Run the next cell (and check out how you can use JupyterLab commands in trusted output)."
   ]
  },
  {
   "cell_type": "code",
   "execution_count": 5,
   "metadata": {},
   "outputs": [
    {
     "name": "stdout",
     "output_type": "stream",
     "text": [
      "Note: you may need to restart the kernel to use updated packages.\n"
     ]
    }
   ],
   "source": [
    "if __name__ == \"__main__\":\n",
    "    %pip install -q wxyz-notebooks"
   ]
  },
  {
   "cell_type": "code",
   "execution_count": 1,
   "metadata": {},
   "outputs": [
    {
     "data": {
      "text/html": [
       "<blockquote>\n",
       "    <a href=\"https://jupyter.org\" data-commandlinker-command=\"notebook:restart-run-all\" >Restart & Run All</a>\n",
       "</blockquote>\n"
      ],
      "text/plain": [
       "<IPython.core.display.HTML object>"
      ]
     },
     "metadata": {},
     "output_type": "display_data"
    }
   ],
   "source": [
    "%%html\n",
    "<blockquote>\n",
    "    <a href=\"https://jupyter.org\" data-commandlinker-command=\"notebook:restart-run-all\" >Restart & Run All</a>\n",
    "</blockquote>"
   ]
  },
  {
   "cell_type": "code",
   "execution_count": 2,
   "metadata": {
    "jupyter": {
     "source_hidden": true
    }
   },
   "outputs": [],
   "source": [
    "import importnb\n",
    "with importnb.Notebook():\n",
    "    from wxyz.notebooks.Examples import (\n",
    "        Hello_Worlds, JSON_LD_Playground, JSON_Tricks, Dock_Panel, Full_Screen, SVG, DataGrid, \n",
    "        StyleGrid_I, StyleGrid_II, SelectGrid, JSON_Schema_Form, Terminal, JSON_E,\n",
    "        Editor, Filing\n",
    "    )"
   ]
  },
  {
   "cell_type": "markdown",
   "metadata": {},
   "source": [
    "## Narratives"
   ]
  },
  {
   "cell_type": "markdown",
   "metadata": {},
   "source": [
    "### Hello Worlds\n",
    "[Transform data into markup](./Examples/Hello%20Worlds.ipynb), with various interactive stops along the way.\n",
    "\n",
    "> _See also_:\n",
    "> - _[Tribbles](./Design/Tribbles.ipynb)_"
   ]
  },
  {
   "cell_type": "code",
   "execution_count": 3,
   "metadata": {
    "jupyter": {
     "source_hidden": true
    }
   },
   "outputs": [
    {
     "data": {
      "application/vnd.jupyter.widget-view+json": {
       "model_id": "3be55174ab5d4f8682fae691347c087c",
       "version_major": 2,
       "version_minor": 0
      },
      "text/plain": [
       "DockBox(children=(Editor(value='{\"planets\": [\\n        {\"name\": \"Alderaan\", \"moons\": [\"That\\'s no Moon...\"]},\\…"
      ]
     },
     "execution_count": 3,
     "metadata": {},
     "output_type": "execute_result"
    }
   ],
   "source": [
    "Hello_Worlds.hello_worlds"
   ]
  },
  {
   "cell_type": "markdown",
   "metadata": {},
   "source": [
    "## Deep Dive: JSON and Friends"
   ]
  },
  {
   "cell_type": "markdown",
   "metadata": {},
   "source": [
    "### JSON Tricks\n",
    "Interactively [learn about JSON](./Examples/JSON%20Tricks.ipynb), Schema, and Pointer."
   ]
  },
  {
   "cell_type": "code",
   "execution_count": null,
   "metadata": {
    "jupyter": {
     "source_hidden": true
    }
   },
   "outputs": [],
   "source": [
    "JSON_Tricks.json_tricks"
   ]
  },
  {
   "cell_type": "markdown",
   "metadata": {},
   "source": [
    "### JSON Schema Form\n",
    "\n",
    "Build [data-driven forms](./Examples/JSON%20Schema%20Form.ipynb) quickly."
   ]
  },
  {
   "cell_type": "code",
   "execution_count": null,
   "metadata": {
    "jupyter": {
     "source_hidden": true
    }
   },
   "outputs": [],
   "source": [
    "f1, fb1 = JSON_Schema_Form.make_a_json_schema_form_playground()\n",
    "fb1"
   ]
  },
  {
   "cell_type": "markdown",
   "metadata": {},
   "source": [
    "### JSON-E\n",
    "\n",
    "[Transform JSON](./Examples/JSON-E.ipynb), with JSON. "
   ]
  },
  {
   "cell_type": "code",
   "execution_count": null,
   "metadata": {
    "jupyter": {
     "source_hidden": true
    }
   },
   "outputs": [],
   "source": [
    "je1 = JSON_E.make_a_json_e_playground()\n",
    "je1"
   ]
  },
  {
   "cell_type": "markdown",
   "metadata": {},
   "source": [
    "### JSON-LD\n",
    "A [recreation](./Examples/JSON-LD%20Playground.ipynb) of the [JSON-LD Playground](https://json-ld.org/playground/)."
   ]
  },
  {
   "cell_type": "code",
   "execution_count": null,
   "metadata": {
    "jupyter": {
     "source_hidden": true
    }
   },
   "outputs": [],
   "source": [
    "JSON_LD_Playground.jsonld_playground"
   ]
  },
  {
   "cell_type": "markdown",
   "metadata": {},
   "source": [
    "## Deep Dive: HTML and Friends"
   ]
  },
  {
   "cell_type": "markdown",
   "metadata": {},
   "source": [
    "### FileBox\n",
    "\n",
    "The [upstream `ipywidgets.FileUpload`](https://ipywidgets.readthedocs.io/en/latest/examples/Widget%20List.html#File-Upload) should probably be used."
   ]
  },
  {
   "cell_type": "markdown",
   "metadata": {},
   "source": [
    "### Full Screen\n",
    "[Full screen widgets](./Examples/Full%20Screen.ipynb) on <kbd>Ctrl+Shift+Click</kbd> (or the flower key on MacOS), rebooted from `ipylayoutwidgets`."
   ]
  },
  {
   "cell_type": "code",
   "execution_count": null,
   "metadata": {
    "jupyter": {
     "source_hidden": true
    }
   },
   "outputs": [],
   "source": [
    "Full_Screen.sine"
   ]
  },
  {
   "cell_type": "markdown",
   "metadata": {},
   "source": [
    "<a name=\"svg\"/>\n",
    "\n",
    "### SVG\n",
    "\n",
    "Another crossover from `ipylayoutwidgets`. Put some [widgets where you want them on an SVG](./Examples/SVG.ipynb) loaded from a file made in [Inkscape](https://inkscape.org/), or [some other source](https://svgwrite.readthedocs.io)."
   ]
  },
  {
   "cell_type": "code",
   "execution_count": null,
   "metadata": {
    "jupyter": {
     "source_hidden": true
    }
   },
   "outputs": [],
   "source": [
    "Full_Screen.Fullscreen([SVG.app])"
   ]
  },
  {
   "cell_type": "markdown",
   "metadata": {},
   "source": [
    "### FileBox\n",
    "\n",
    "`FileBox` puts [files on the page](./Exmaples/Filing.ipynb) from the kernel or browser.}"
   ]
  },
  {
   "cell_type": "code",
   "execution_count": null,
   "metadata": {
    "jupyter": {
     "source_hidden": true
    }
   },
   "outputs": [],
   "source": [
    "Filing.app"
   ]
  },
  {
   "cell_type": "markdown",
   "metadata": {},
   "source": [
    "## Deep Dive: JupyterLab, Lumino and Friends"
   ]
  },
  {
   "cell_type": "markdown",
   "metadata": {},
   "source": [
    "### Dock Panel\n",
    "A partial [interactive data model](./Examples/Dock%20Panel.ipynb) for the Lumino [Dock Panel](https://jupyterlab.github.io/lumino/widgets/classes/dockpanel.html)."
   ]
  },
  {
   "cell_type": "code",
   "execution_count": null,
   "metadata": {
    "jupyter": {
     "source_hidden": true
    }
   },
   "outputs": [],
   "source": [
    "Dock_Panel.resizable_dock"
   ]
  },
  {
   "cell_type": "markdown",
   "metadata": {},
   "source": [
    "### Dock Pop\n",
    "Like a `DockPanel`, but just puts stuff into the JupyterLab main area. "
   ]
  },
  {
   "cell_type": "code",
   "execution_count": null,
   "metadata": {
    "jupyter": {
     "source_hidden": true
    }
   },
   "outputs": [],
   "source": [
    "Dock_Panel.make_a_slider"
   ]
  },
  {
   "cell_type": "markdown",
   "metadata": {},
   "source": [
    "### Editor\n",
    "\n",
    "Build [custom editors](./Examples/Editor.ipynb) with CodeMirror. "
   ]
  },
  {
   "cell_type": "code",
   "execution_count": null,
   "metadata": {
    "jupyter": {
     "source_hidden": true
    }
   },
   "outputs": [],
   "source": [
    "editor = Editor.app\n",
    "editor"
   ]
  },
  {
   "cell_type": "markdown",
   "metadata": {},
   "source": [
    "### Terminal\n",
    "\n",
    "Create [text-based displays](./Examples/Terminal.ipynb) with xtermjs."
   ]
  },
  {
   "cell_type": "code",
   "execution_count": null,
   "metadata": {
    "jupyter": {
     "source_hidden": true
    }
   },
   "outputs": [],
   "source": [
    "term = Terminal.make_a_fancy_terminal_demo()\n",
    "term"
   ]
  },
  {
   "cell_type": "markdown",
   "metadata": {},
   "source": [
    "### DataGrid\n",
    "[Interact with tabular data](](./Examples/DataGrid.ipynb)) using the Lumino [Data Grid](https://jupyterlab.github.io/lumino/datagrid/classes/datagrid.html)."
   ]
  },
  {
   "cell_type": "code",
   "execution_count": null,
   "metadata": {
    "jupyter": {
     "source_hidden": true
    }
   },
   "outputs": [],
   "source": [
    "dg1 = DataGrid.make_grid()\n",
    "dg1"
   ]
  },
  {
   "cell_type": "markdown",
   "metadata": {},
   "source": [
    "### Style Grid\n",
    "\n",
    "[Project data](./Examples/StyleGrid%202.ipynb) onto a DataGrid."
   ]
  },
  {
   "cell_type": "code",
   "execution_count": null,
   "metadata": {
    "jupyter": {
     "source_hidden": true
    }
   },
   "outputs": [],
   "source": [
    "sgi = StyleGrid_I.make_style_grid_i_remix()\n",
    "sgi"
   ]
  },
  {
   "cell_type": "markdown",
   "metadata": {},
   "source": [
    "### TextFormatter"
   ]
  },
  {
   "cell_type": "code",
   "execution_count": null,
   "metadata": {
    "jupyter": {
     "source_hidden": true
    }
   },
   "outputs": [],
   "source": [
    "dg2 = StyleGrid_II.make_style_grid_ii()\n",
    "dg2"
   ]
  },
  {
   "cell_type": "markdown",
   "metadata": {},
   "source": [
    "### SelectGrid\n",
    "\n",
    "Use [multiple selections and linked grids](./Examples/SelectGrid.ipynb)."
   ]
  },
  {
   "cell_type": "code",
   "execution_count": null,
   "metadata": {
    "jupyter": {
     "source_hidden": true
    }
   },
   "outputs": [],
   "source": [
    "pg3 = SelectGrid.make_select_grid()\n",
    "pg3"
   ]
  },
  {
   "cell_type": "code",
   "execution_count": null,
   "metadata": {},
   "outputs": [],
   "source": [
    "if __name__ == \"__main__\":\n",
    "    with __import__(\"importnb\").Notebook():\n",
    "        from wxyz.notebooks import Utils\n",
    "        Utils.maybe_log_widget_counts()"
   ]
  }
 ],
 "metadata": {
  "kernelspec": {
   "display_name": "Python 3 (ipykernel)",
   "language": "python",
   "name": "python3"
  },
  "language_info": {
   "codemirror_mode": {
    "name": "ipython",
    "version": 3
   },
   "file_extension": ".py",
   "mimetype": "text/x-python",
   "name": "python",
   "nbconvert_exporter": "python",
   "pygments_lexer": "ipython3",
   "version": "3.11.0"
  },
  "toc-autonumbering": true
 },
 "nbformat": 4,
 "nbformat_minor": 4
}
