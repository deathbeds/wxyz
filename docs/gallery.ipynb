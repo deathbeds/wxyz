{
 "cells": [
  {
   "cell_type": "markdown",
   "metadata": {},
   "source": [
    "# Gallery"
   ]
  },
  {
   "cell_type": "code",
   "execution_count": null,
   "metadata": {
    "hide_input": true,
    "tags": [
     "remove-cell"
    ]
   },
   "outputs": [],
   "source": [
    "import base64, json, jinja2, pandas as pd, IPython.display as D\n",
    "from pathlib import Path\n",
    "from matplotlib import cm\n",
    "HERE = Path.cwd()\n",
    "ATEST = HERE.parent / \"atest/output\"\n",
    "IMG = sorted([\n",
    "    p for p in sorted(ATEST.rglob(\"*.png\"))\n",
    "    if \"pabot\" not in str(p)\n",
    "    and \"notebook-index\" in str(p)\n",
    "    and \"linux_38\" in str(p)\n",
    "])\n",
    "CELLS = {str(i).split('/screens/')[1]: D.Image(i) for i in IMG if \"cell\" in str(i)}\n",
    "MROS = {\n",
    "    j.name: json.loads(j.read_text(encoding=\"utf-8\")) for j in (HERE.parent / \"build/nbwidgets\").glob(\"*.json\")\n",
    "}"
   ]
  },
  {
   "cell_type": "code",
   "execution_count": null,
   "metadata": {
    "hide_input": true,
    "tags": [
     "remove-cell"
    ]
   },
   "outputs": [],
   "source": [
    "rows = []\n",
    "for path, data in MROS.items():\n",
    "    for mro in data[\"mro_counts\"]:\n",
    "        rows += [dict(Example=path.replace(\".json\", \"\"), mro=mro[\"mro\"], count=mro[\"count\"])]\n",
    "df = pd.DataFrame(rows)\n",
    "df[\"fqn\"] = df[\"mro\"].apply(lambda x: x[0])\n",
    "df[\"cls\"] = df[\"fqn\"].apply(lambda x: x.rsplit(\".\")[-1])\n",
    "df[\"mod\"] = df[\"fqn\"].apply(lambda x: x.rsplit(\".\", 1)[0])\n",
    "df[\"wxyz\"] = df[\"mod\"].str.startswith(\"wxyz\")"
   ]
  },
  {
   "cell_type": "code",
   "execution_count": null,
   "metadata": {
    "hide_input": true,
    "tags": [
     "remove-cell"
    ]
   },
   "outputs": [],
   "source": [
    "CAROUSEL_TMPL = jinja2.Template(\"\"\"\n",
    "<div id=\"carousel-wxyz-{{ label }}\" class=\"carousel slide\" data-ride=\"carousel\">\n",
    "  <ol class=\"carousel-indicators\">\n",
    "    {% for img in imgs %}\n",
    "    <li data-target=\"#carousel-wxyz-{{ label }}\" data-slide-to=\"{{ loop.index0 }}\"></li>\n",
    "    {% endfor %}\n",
    "  </ol>\n",
    "  <div class=\"carousel-inner\">\n",
    "    {% for img, uri in imgs.items() %}\n",
    "        <div class=\"carousel-item{% if not loop.index0 %} active{% endif %}\">\n",
    "          <img alt=\"{{ img.name }}\" class=\"d-block w-100\" src=\"{{ uri }}\">\n",
    "        </div>\n",
    "    {% endfor %}\n",
    "  </div>\n",
    "  <a class=\"carousel-control-prev\" href=\"#carousel-wxyz-{{ label }}\" role=\"button\" data-slide=\"prev\">\n",
    "    <span class=\"carousel-control-prev-icon\" aria-hidden=\"true\"></span>\n",
    "    <span class=\"sr-only\">Previous</span>\n",
    "  </a>\n",
    "  <a class=\"carousel-control-next\" href=\"#carousel-wxyz-{{ label }}\" role=\"button\" data-slide=\"next\">\n",
    "    <span class=\"carousel-control-next-icon\" aria-hidden=\"true\"></span>\n",
    "    <span class=\"sr-only\">Next</span>\n",
    "  </a>\n",
    "</div>\n",
    "\"\"\")"
   ]
  },
  {
   "cell_type": "code",
   "execution_count": 1,
   "metadata": {
    "hide_input": true,
    "tags": [
     "remove-cell"
    ]
   },
   "outputs": [],
   "source": [
    "def png_data_uri(path):\n",
    "    return 'data:image/png;base64,{}'.format(base64.b64encode(path.read_bytes()).decode(\"utf-8\"))"
   ]
  },
  {
   "cell_type": "markdown",
   "metadata": {},
   "source": [
    "## Screenshots"
   ]
  },
  {
   "cell_type": "code",
   "execution_count": null,
   "metadata": {
    "hide_input": true,
    "tags": [
     "remove-input"
    ]
   },
   "outputs": [],
   "source": [
    "outputs = []\n",
    "for parent in sorted(set([p.parent for p in IMG])):\n",
    "    context = dict(\n",
    "        label=parent.name,\n",
    "        imgs={i: png_data_uri(i) for i in IMG if parent == i.parent}\n",
    "    )\n",
    "    outputs += [D.HTML(CAROUSEL_TMPL.render(**context))]\n",
    "D.display(*outputs);"
   ]
  },
  {
   "cell_type": "markdown",
   "metadata": {},
   "source": [
    "> _These images generated during the [Robot Framework](https://robotframework.org) acceptance tests._"
   ]
  },
  {
   "cell_type": "markdown",
   "metadata": {},
   "source": [
    "## WXYZ in Notebooks"
   ]
  },
  {
   "cell_type": "code",
   "execution_count": null,
   "metadata": {
    "hide_input": true,
    "tags": [
     "remove-input"
    ]
   },
   "outputs": [],
   "source": [
    "piv = pd.pivot_table(df[df[\"wxyz\"]], values=\"count\", index=['Example'], columns=['fqn']).T.reset_index().fillna(0)\n",
    "piv[\"module\"] = piv[\"fqn\"].apply(lambda x: \".\".join(x.rsplit(\".\", 1)[0:1]))\n",
    "piv[\"widget\"] = piv[\"fqn\"].apply(lambda x: x.rsplit(\".\", 1)[1])\n",
    "piv_out = piv[[c for c in piv.columns if c not in [\"fqn\"]]].set_index([\"module\", \"widget\"]).astype(\"int\")\n",
    "st = piv_out.style\n",
    "st.background_gradient(\"gray_r\").set_properties(**{\"text-align\": \"center\", \"min-width\": \"4rem\"})"
   ]
  },
  {
   "cell_type": "markdown",
   "metadata": {},
   "source": [
    "> _These use data generated during `nbconvert` smoke tests_"
   ]
  }
 ],
 "metadata": {
  "kernelspec": {
   "display_name": "Python 3",
   "language": "python",
   "name": "python3"
  },
  "language_info": {
   "codemirror_mode": {
    "name": "ipython",
    "version": 3
   },
   "file_extension": ".py",
   "mimetype": "text/x-python",
   "name": "python",
   "nbconvert_exporter": "python",
   "pygments_lexer": "ipython3",
   "version": "3.8.6"
  }
 },
 "nbformat": 4,
 "nbformat_minor": 4
}
