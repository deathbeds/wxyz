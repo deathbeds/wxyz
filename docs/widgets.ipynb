{
 "cells": [
  {
   "cell_type": "markdown",
   "metadata": {},
   "source": [
    "# Python API"
   ]
  },
  {
   "cell_type": "markdown",
   "metadata": {
    "nbsphinx-toctree": {
     "maxdepth": 1
    }
   },
   "source": [
    "<!-- BEGIN MODULEGEN -->\n",
    "- [wxyz.core](./widgets/core)\n",
    "- [wxyz.datagrid](./widgets/datagrid)\n",
    "- [wxyz.dvcs](./widgets/dvcs)\n",
    "- [wxyz.html](./widgets/html)\n",
    "- [wxyz.json_e](./widgets/json_e)\n",
    "- [wxyz.json_schema_form](./widgets/json_schema_form)\n",
    "- [wxyz.jsonld](./widgets/jsonld)\n",
    "- [wxyz.lab](./widgets/lab)\n",
    "- [wxyz.notebooks](./widgets/notebooks)\n",
    "- [wxyz.svg](./widgets/svg)\n",
    "- [wxyz.tpl_jinja](./widgets/tpl_jinja)\n",
    "- [wxyz.yaml](./widgets/yaml)\n",
    "<!-- END MODULEGEN -->\n"
   ]
  }
 ],
 "metadata": {
  "kernelspec": {
   "display_name": "Python 3",
   "language": "python",
   "name": "python3"
  },
  "language_info": {
   "codemirror_mode": {
    "name": "ipython",
    "version": 3
   },
   "file_extension": ".py",
   "mimetype": "text/x-python",
   "name": "python",
   "nbconvert_exporter": "python",
   "pygments_lexer": "ipython3",
   "version": "3.8.6"
  }
 },
 "nbformat": 4,
 "nbformat_minor": 4
}
