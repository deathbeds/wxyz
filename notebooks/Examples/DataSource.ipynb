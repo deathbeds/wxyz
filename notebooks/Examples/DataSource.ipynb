{
 "cells": [
  {
   "cell_type": "code",
   "execution_count": 23,
   "metadata": {},
   "outputs": [],
   "source": [
    "import pandas as pd\n",
    "from ipydatawidgets import NDArrayWidget\n",
    "from ipywxyz.widgets.widget_datagrid import DataGrid\n",
    "from ipywxyz.widgets.widget_datasource import WXYZTableSchema, WXYZNDArray, WXYZColumnar"
   ]
  },
  {
   "cell_type": "code",
   "execution_count": 24,
   "metadata": {},
   "outputs": [],
   "source": [
    "df = pd.util.testing.makeDataFrame()"
   ]
  },
  {
   "cell_type": "code",
   "execution_count": 25,
   "metadata": {},
   "outputs": [
    {
     "data": {
      "application/vnd.jupyter.widget-view+json": {
       "model_id": "e3287010adaa40e489d3a8c0ea385d5b",
       "version_major": 2,
       "version_minor": 0
      },
      "text/plain": [
       "DataGrid(layout=Layout(height='40vh'), source=WXYZTableSchema())"
      ]
     },
     "metadata": {},
     "output_type": "display_data"
    }
   ],
   "source": [
    "tsrc = WXYZTableSchema(value=df)\n",
    "DataGrid(source=tsrc, layout=dict(height=\"40vh\"))"
   ]
  },
  {
   "cell_type": "code",
   "execution_count": 34,
   "metadata": {},
   "outputs": [
    {
     "data": {
      "application/vnd.jupyter.widget-view+json": {
       "model_id": "",
       "version_major": 2,
       "version_minor": 0
      },
      "text/plain": [
       "DataGrid(layout=Layout(height='100%'), source=WXYZNDArray(value=array([[-6.05038305e-01,  1.32808236e+00,  1.1…"
      ]
     },
     "metadata": {},
     "output_type": "display_data"
    }
   ],
   "source": [
    "ndsrc = WXYZNDArray(value=df.to_numpy())\n",
    "DataGrid(source=ndsrc, layout=dict(height=\"100%\"))"
   ]
  },
  {
   "cell_type": "code",
   "execution_count": 35,
   "metadata": {},
   "outputs": [],
   "source": [
    "ndsrc.value = pd.np.random.randint(-100, 100, [10000, 10000])"
   ]
  },
  {
   "cell_type": "code",
   "execution_count": 31,
   "metadata": {},
   "outputs": [
    {
     "name": "stdout",
     "output_type": "stream",
     "text": [
      "[NDArrayWidget(array=array([-6.05038305e-01, -4.32587989e-01, -3.77502344e-01, -9.69117326e-01,\n",
      "        6.98713786e-01, -1.02045721e+00,  1.09433056e-01,  1.32304492e+00,\n",
      "        7.58068392e-02, -1.98760789e+00, -5.19674993e-01,  2.63415695e-01,\n",
      "        2.05405292e-02, -4.96300682e-02,  2.19551478e-01, -2.31258218e+00,\n",
      "        1.34808511e+00, -7.64840344e-01,  2.67525700e-01,  1.10626728e+00,\n",
      "       -4.22405521e-02,  6.81857689e-01,  1.46925943e-03, -2.35130654e+00,\n",
      "        1.81575028e-01, -6.48215126e-01, -1.46340407e-01, -3.02811813e-01,\n",
      "       -3.94197806e-01,  2.04955323e+00])), NDArrayWidget(array=array([ 1.32808236, -1.15169225,  1.30759422,  0.90734044,  0.72012392,\n",
      "       -0.56237279,  0.45248177,  0.03492829,  0.02738635, -0.00471729,\n",
      "       -0.36263257,  0.45572479,  0.11528495,  1.31876026,  0.22771601,\n",
      "        2.08459259,  1.97919718,  3.21470181,  1.02855731,  0.75402741,\n",
      "        1.42942739,  1.24218594, -0.25957742,  0.33210795, -1.12827835,\n",
      "        0.5257084 ,  1.4986344 ,  0.00412935, -1.9105043 , -0.27907772])), NDArrayWidget(array=array([ 1.19075954, -0.16960577,  2.78832473, -0.52911123,  0.78736792,\n",
      "       -0.21748906,  0.62488249, -0.97557108, -0.0899382 ,  1.71557241,\n",
      "        0.24202956,  1.50403857, -0.84710727, -1.05541417,  0.36053233,\n",
      "       -0.72383738, -0.20983036,  0.37998491, -0.84461853, -0.89385718,\n",
      "        1.54987827, -0.28234826, -1.03856694,  0.55110784, -1.50194524,\n",
      "       -0.53387953,  0.32033078,  0.57459995,  2.25797216, -0.51046325])), NDArrayWidget(array=array([-0.19904322, -0.29953273,  0.86623509, -0.59513238,  1.19004171,\n",
      "       -2.01922921, -1.13197905, -1.323773  , -0.50996846, -1.39809625,\n",
      "        0.99975632,  0.71858979,  0.59520395,  1.77638318,  1.6313924 ,\n",
      "        0.31738022, -0.54273069, -0.7255202 , -0.53979579,  0.59629715,\n",
      "        0.05469679,  1.0473709 , -0.42837827, -1.94140595, -0.5396543 ,\n",
      "       -0.03900537, -1.87969079,  0.92212434,  0.54490867,  0.15968296]))]\n"
     ]
    },
    {
     "data": {
      "application/vnd.jupyter.widget-view+json": {
       "model_id": "6014939da17649d9b2686749394aa8bf",
       "version_major": 2,
       "version_minor": 0
      },
      "text/plain": [
       "DataGrid(layout=Layout(height='40vh'), source=WXYZColumnar(value=[NDArrayWidget(array=array([-6.05038305e-01, …"
      ]
     },
     "metadata": {},
     "output_type": "display_data"
    }
   ],
   "source": [
    "# csrc = WXYZColumnar(value=list(df.columns.map(lambda x: NDArrayWidget(df[x].to_numpy()))))\n",
    "# print(csrc.value)\n",
    "# DataGrid(source=csrc, layout=dict(height=\"40vh\"))"
   ]
  }
 ],
 "metadata": {
  "kernelspec": {
   "display_name": "Python 3",
   "language": "python",
   "name": "python3"
  },
  "language_info": {
   "codemirror_mode": {
    "name": "ipython",
    "version": 3
   },
   "file_extension": ".py",
   "mimetype": "text/x-python",
   "name": "python",
   "nbconvert_exporter": "python",
   "pygments_lexer": "ipython3",
   "version": "3.7.3"
  }
 },
 "nbformat": 4,
 "nbformat_minor": 2
}
