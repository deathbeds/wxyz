{
 "cells": [
  {
   "cell_type": "markdown",
   "metadata": {},
   "source": [
    "# Logger leveraging Xterm\n",
    "The ColoredFormatter used Pygment tokens so custom styles can be easily made."
   ]
  },
  {
   "cell_type": "code",
   "execution_count": 1,
   "metadata": {},
   "outputs": [
    {
     "data": {
      "application/vnd.jupyter.widget-view+json": {
       "model_id": "73568ba9e03c43b586b321c1019a00d2",
       "version_major": 2,
       "version_minor": 0
      },
      "text/plain": [
       "Terminal(theme={'foreground': '#fff', 'background': '#000', 'cursor': '#fff', 'cursorAccent': '#000', 'selecti…"
      ]
     },
     "metadata": {},
     "output_type": "display_data"
    }
   ],
   "source": [
    "from wxyz.lab.widget_logger import XStream, ColoredFormatter\n",
    "import logging\n",
    "\n",
    "stream = XStream()\n",
    "\n",
    "logger = logging.getLogger()\n",
    "handler = logging.StreamHandler(stream=stream)\n",
    "colorer = ColoredFormatter(\n",
    "    fmt=\"%(asctime)s-%(name)s:%(levelname)s- %(message)s\",\n",
    "    datefmt='%H:%M:%S',\n",
    ")\n",
    "logger.setLevel(logging.DEBUG)\n",
    "handler.setFormatter(colorer)\n",
    "logger.addHandler(handler)\n",
    "\n",
    "stream.terminal"
   ]
  },
  {
   "cell_type": "code",
   "execution_count": 2,
   "metadata": {},
   "outputs": [
    {
     "name": "stderr",
     "output_type": "stream",
     "text": [
      "/home/dfreeman6/Documents/science_scout/envs/_ice/lib/python3.7/site-packages/ipykernel_launcher.py:3: DeprecationWarning: The 'warn' method is deprecated, use 'warning' instead\n",
      "  This is separate from the ipykernel package so we can avoid doing imports until\n"
     ]
    }
   ],
   "source": [
    "logger.debug(\"debug message\")\n",
    "logger.info(\"info message\")\n",
    "logger.warn(\"warn message\")\n",
    "logger.error(\"error message\")\n",
    "logger.critical(\"critical message\")"
   ]
  },
  {
   "cell_type": "markdown",
   "metadata": {},
   "source": [
    "Exceptions logged and colored using IPython verbose traceback"
   ]
  },
  {
   "cell_type": "code",
   "execution_count": 3,
   "metadata": {},
   "outputs": [],
   "source": [
    "try:\n",
    "    1/0\n",
    "except:\n",
    "    logger.exception(\"Something bad thing happened\")"
   ]
  },
  {
   "cell_type": "code",
   "execution_count": null,
   "metadata": {},
   "outputs": [],
   "source": []
  }
 ],
 "metadata": {
  "kernelspec": {
   "display_name": "Python 3",
   "language": "python",
   "name": "python3"
  },
  "language_info": {
   "codemirror_mode": {
    "name": "ipython",
    "version": 3
   },
   "file_extension": ".py",
   "mimetype": "text/x-python",
   "name": "python",
   "nbconvert_exporter": "python",
   "pygments_lexer": "ipython3",
   "version": "3.7.1"
  }
 },
 "nbformat": 4,
 "nbformat_minor": 4
}
