{
 "cells": [
  {
   "cell_type": "markdown",
   "metadata": {},
   "source": [
    "# StateMachine II"
   ]
  },
  {
   "cell_type": "code",
   "execution_count": null,
   "metadata": {},
   "outputs": [],
   "source": [
    "from wxyz.stm.widget_stm import StateMachine, W\n",
    "from wxyz.lab.widget_dock import DockBox\n",
    "from yaml import safe_load"
   ]
  },
  {
   "cell_type": "code",
   "execution_count": null,
   "metadata": {},
   "outputs": [],
   "source": [
    "with __import__(\"importnb\").Notebook():\n",
    "    from StateMachine import make_an_adventure"
   ]
  },
  {
   "cell_type": "code",
   "execution_count": null,
   "metadata": {},
   "outputs": [],
   "source": [
    "if __name__ == \"__main__\":\n",
    "    state_dict = safe_load(\"\"\"\n",
    "    jail:\n",
    "        _:\n",
    "            find_key: jail_has_key\n",
    "            sleep: jail\n",
    "        has_key:\n",
    "            _:\n",
    "                escape: town\n",
    "    town:\n",
    "        _:\n",
    "            steal_get_caught: jail\n",
    "            steal: town_has_coin\n",
    "            beg: town_has_coin\n",
    "        has_coin:\n",
    "            _:\n",
    "                buy_sword: town_has_gear_sword\n",
    "                buy_wand: town_has_gear_wand\n",
    "        has_gear:\n",
    "            _:\n",
    "                practice: town_has_gear\n",
    "            sword:\n",
    "            wand:\n",
    "    \"\"\")\n",
    "    display(state_dict)"
   ]
  },
  {
   "cell_type": "code",
   "execution_count": null,
   "metadata": {},
   "outputs": [],
   "source": [
    "def state_dict_to_state_transitions(state_dict, prefix=\"\", parents=[]):\n",
    "    states = []\n",
    "    transitions = []\n",
    "    for state, children in state_dict.items():\n",
    "        if state == \"_\":\n",
    "            for tx, tgt in children.items():\n",
    "                if prefix:\n",
    "                    transitions += [\n",
    "                        [tx, parents[-1], tgt]\n",
    "                    ]\n",
    "                else:\n",
    "                    transitions += [\n",
    "                        [tx, state, tgt]\n",
    "                    ]\n",
    "        else:\n",
    "            cs, ct = [], []\n",
    "            if children:\n",
    "                cs, ct = state_dict_to_state_transitions(children, f\"{prefix}{state}_\", [*parents, f\"{prefix}{state}\"])\n",
    "            if cs:\n",
    "                states += [\n",
    "                    {\"name\": state, \"children\": cs}\n",
    "                ]\n",
    "            else:\n",
    "                states += [state]\n",
    "            transitions += ct\n",
    "    return states, transitions"
   ]
  },
  {
   "cell_type": "code",
   "execution_count": null,
   "metadata": {},
   "outputs": [],
   "source": [
    "if __name__ == \"__main__\":\n",
    "    states, transitions = state_dict_to_state_transitions(state_dict)\n",
    "    display(states, transitions)"
   ]
  },
  {
   "cell_type": "code",
   "execution_count": null,
   "metadata": {},
   "outputs": [],
   "source": [
    "if __name__ == \"__main__\":\n",
    "    stm, view = make_an_adventure(states=states, transitions=transitions, initial=\"jail\")\n",
    "    dock = DockBox(view.children, layout=dict(height=\"600px\"))\n",
    "\n",
    "    @dock.on_displayed\n",
    "    def _on_displayed(_):\n",
    "        dock.dock_layout = {\n",
    "            'type': 'split-area',\n",
    "            'orientation': 'horizontal',\n",
    "            'children': [\n",
    "                {'type': 'tab-area', 'widgets': [0], 'currentIndex': 0},\n",
    "                {'type': 'tab-area', 'widgets': [1], 'currentIndex': 0}\n",
    "            ], 'sizes': [0.3, 0.7]}\n",
    "    display(dock)"
   ]
  }
 ],
 "metadata": {
  "kernelspec": {
   "display_name": "Python 3",
   "language": "python",
   "name": "python3"
  },
  "language_info": {
   "codemirror_mode": {
    "name": "ipython",
    "version": 3
   },
   "file_extension": ".py",
   "mimetype": "text/x-python",
   "name": "python",
   "nbconvert_exporter": "python",
   "pygments_lexer": "ipython3",
   "version": "3.7.3"
  }
 },
 "nbformat": 4,
 "nbformat_minor": 2
}
