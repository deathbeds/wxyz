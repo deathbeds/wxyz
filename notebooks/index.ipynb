{
 "cells": [
  {
   "cell_type": "markdown",
   "metadata": {},
   "source": [
    "# WXYZ\n",
    "> _Experimental widgets. Probably don't expect them to keep working right now._\n",
    "\n",
    "Some examples of using `ipywidgets` and JupyterLab a little roughly."
   ]
  },
  {
   "cell_type": "code",
   "execution_count": null,
   "metadata": {},
   "outputs": [],
   "source": [
    "%%html\n",
    "<h1><a href=\"https://jupyter.org\" data-commandlinker-command=\"notebook:restart-run-all\" >Restart & Run All</a></h1>"
   ]
  },
  {
   "cell_type": "code",
   "execution_count": null,
   "metadata": {
    "jupyter": {
     "source_hidden": true
    }
   },
   "outputs": [],
   "source": [
    "import importnb\n",
    "with importnb.Notebook():\n",
    "    from Examples import (\n",
    "        Hello_Worlds, JSON_LD_Playground, JSON_Tricks, Dock_Panel, Full_Screen, SVG, DataGrid, \n",
    "        StyleGrid_I, StyleGrid_II, SelectGrid, StateMachine\n",
    "    )"
   ]
  },
  {
   "cell_type": "markdown",
   "metadata": {},
   "source": [
    "# [Hello Worlds](./Examples/Hello%20Worlds.ipynb)\n",
    "Transform data into markup, with various interactive stops along the way."
   ]
  },
  {
   "cell_type": "code",
   "execution_count": null,
   "metadata": {
    "jupyter": {
     "source_hidden": true
    }
   },
   "outputs": [],
   "source": [
    "Hello_Worlds.hello_worlds"
   ]
  },
  {
   "cell_type": "markdown",
   "metadata": {},
   "source": [
    "# [JSON Tricks](./Examples/JSON%20Tricks.ipynb)\n",
    "Interactively learn about JSON Schema and JSON Pointer."
   ]
  },
  {
   "cell_type": "code",
   "execution_count": null,
   "metadata": {
    "jupyter": {
     "source_hidden": true
    }
   },
   "outputs": [],
   "source": [
    "JSON_Tricks.json_tricks"
   ]
  },
  {
   "cell_type": "markdown",
   "metadata": {},
   "source": [
    "## [JSON-LD Playground](./Examples/JSON-LD%20Playground.ipynb)\n",
    "A recreation of the [JSON-LD Playground](https://json-ld.org/playground/)."
   ]
  },
  {
   "cell_type": "code",
   "execution_count": null,
   "metadata": {
    "jupyter": {
     "source_hidden": true
    }
   },
   "outputs": [],
   "source": [
    "JSON_LD_Playground.jsonld_playground"
   ]
  },
  {
   "cell_type": "markdown",
   "metadata": {},
   "source": [
    "## [Dock Panel](./Examples/Dock%20Panel.ipynb)\n",
    "A partial data model for the Phosphor [Dock Panel](http://phosphorjs.github.io/examples/dockpanel/)."
   ]
  },
  {
   "cell_type": "code",
   "execution_count": null,
   "metadata": {
    "jupyter": {
     "source_hidden": true
    }
   },
   "outputs": [],
   "source": [
    "Dock_Panel.resizable_dock"
   ]
  },
  {
   "cell_type": "markdown",
   "metadata": {},
   "source": [
    "### Dock Pop\n",
    "Like a `DockPanel`, but just puts stuff into the JupyterLab main area. "
   ]
  },
  {
   "cell_type": "code",
   "execution_count": null,
   "metadata": {
    "jupyter": {
     "source_hidden": true
    }
   },
   "outputs": [],
   "source": [
    "Dock_Panel.make_a_slider"
   ]
  },
  {
   "cell_type": "markdown",
   "metadata": {},
   "source": [
    "## [Full Screen](./Examples/Full%20Screen.ipynb)\n",
    "Full screen widgets on <kbd>Click</kbd> or <kbd>Ctrl+Click</kbd>, rebooted from `ipylayoutwidgets`."
   ]
  },
  {
   "cell_type": "code",
   "execution_count": null,
   "metadata": {
    "jupyter": {
     "source_hidden": true
    }
   },
   "outputs": [],
   "source": [
    "Full_Screen.sine"
   ]
  },
  {
   "cell_type": "code",
   "execution_count": null,
   "metadata": {
    "jupyter": {
     "source_hidden": true
    }
   },
   "outputs": [],
   "source": [
    "Full_Screen.dock"
   ]
  },
  {
   "cell_type": "markdown",
   "metadata": {},
   "source": [
    "<a name=\"svg\"/>\n",
    "\n",
    "# [SVG](./Examples/SVG.ipynb)\n",
    "Another crossover from `ipylayoutwidgets`. Put some widgets where you want them on an SVG loaded from a file made in [Inkscape](https://inkscape.org/), or [some other source](https://svgwrite.readthedocs.io)."
   ]
  },
  {
   "cell_type": "code",
   "execution_count": null,
   "metadata": {
    "jupyter": {
     "source_hidden": true
    }
   },
   "outputs": [],
   "source": [
    "Full_Screen.Fullscreen([SVG.svg])"
   ]
  },
  {
   "cell_type": "markdown",
   "metadata": {},
   "source": [
    "# [DataGrid](./Examples/DataGrid.ipynb)\n",
    "The Phosphor DataGrid."
   ]
  },
  {
   "cell_type": "code",
   "execution_count": null,
   "metadata": {
    "jupyter": {
     "source_hidden": true
    }
   },
   "outputs": [],
   "source": [
    "dg1 = DataGrid.make_grid()\n",
    "dg1"
   ]
  },
  {
   "cell_type": "markdown",
   "metadata": {},
   "source": [
    "### Custom Cell Renderers\n",
    "WIP, but usable (maybe)"
   ]
  },
  {
   "cell_type": "code",
   "execution_count": null,
   "metadata": {
    "jupyter": {
     "source_hidden": true
    }
   },
   "outputs": [],
   "source": [
    "dg2 = StyleGrid_II.make_style_grid_ii()\n",
    "dg2"
   ]
  },
  {
   "cell_type": "markdown",
   "metadata": {},
   "source": [
    "### SelectGrid\n",
    "Very WIP."
   ]
  },
  {
   "cell_type": "code",
   "execution_count": null,
   "metadata": {
    "jupyter": {
     "source_hidden": true
    }
   },
   "outputs": [],
   "source": [
    "pg3 = SelectGrid.make_select_grid()\n",
    "pg3"
   ]
  },
  {
   "cell_type": "markdown",
   "metadata": {},
   "source": [
    "# [StateMachine](./Examples/StateMachine.ipynb)\n",
    "Based on [transitions](https://github.com/pytransitions/transitions#basic-initialization)"
   ]
  },
  {
   "cell_type": "code",
   "execution_count": null,
   "metadata": {
    "jupyter": {
     "source_hidden": true
    }
   },
   "outputs": [],
   "source": [
    "stm = StateMachine.make_an_adventure()\n",
    "stm"
   ]
  }
 ],
 "metadata": {
  "kernelspec": {
   "display_name": "Python 3",
   "language": "python",
   "name": "python3"
  },
  "language_info": {
   "codemirror_mode": {
    "name": "ipython",
    "version": 3
   },
   "file_extension": ".py",
   "mimetype": "text/x-python",
   "name": "python",
   "nbconvert_exporter": "python",
   "pygments_lexer": "ipython3",
   "version": "3.7.3"
  }
 },
 "nbformat": 4,
 "nbformat_minor": 2
}
